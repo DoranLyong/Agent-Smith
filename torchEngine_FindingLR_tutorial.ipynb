{
 "cells": [
  {
   "cell_type": "code",
   "execution_count": 1,
   "metadata": {},
   "outputs": [],
   "source": [
    "from copy import deepcopy \n",
    "\n",
    "import numpy as np \n",
    "import matplotlib.pyplot as plt \n",
    "\n",
    "import torch \n",
    "import torch.nn as nn \n",
    "import torch.nn.functional as F \n",
    "import torch.optim as optim \n",
    "\n",
    "from SmithZero import D2torchEngine"
   ]
  },
  {
   "cell_type": "code",
   "execution_count": 2,
   "metadata": {},
   "outputs": [
    {
     "data": {
      "text/plain": [
       "<torch._C.Generator at 0x7ff013d1bd90>"
      ]
     },
     "execution_count": 2,
     "metadata": {},
     "output_type": "execute_result"
    }
   ],
   "source": [
    "torch.manual_seed(42)"
   ]
  },
  {
   "cell_type": "markdown",
   "metadata": {},
   "source": [
    "### Data Preparation "
   ]
  },
  {
   "cell_type": "code",
   "execution_count": 3,
   "metadata": {},
   "outputs": [
    {
     "name": "stdout",
     "output_type": "stream",
     "text": [
      "Files already downloaded and verified\n",
      "Files already downloaded and verified\n"
     ]
    }
   ],
   "source": [
    "from torchvision.datasets import CIFAR10 \n",
    "import torchvision.transforms as T\n",
    "\n",
    "\n",
    "# === data transformation === # \n",
    "train_T = T.Compose([   T.RandomCrop(32, padding=4),\n",
    "                        T.RandomHorizontalFlip(), \n",
    "                        T.ToTensor(), \n",
    "                        T.Normalize(mean= (0.4914, 0.4822, 0.4465),\n",
    "                                    std=(0.2023, 0.1994, 0.2010)),\n",
    "                    ])\n",
    "\n",
    "test_T = T.Compose([T.ToTensor(),\n",
    "                    T.Normalize(mean=(0.4914, 0.4822, 0.4465),\n",
    "                                std=(0.2023, 0.1994, 0.2010))\n",
    "                    ])                  \n",
    "\n",
    "\n",
    "# === download dataset object === # \n",
    "train_data = CIFAR10 (  root=\"./dataset/train\",\n",
    "                        train=True,\n",
    "                        download=True,\n",
    "                        transform=train_T )\n",
    "\n",
    "test_data = CIFAR10 (   root=\"./dataset/test\",\n",
    "                        train=False,\n",
    "                        download=True, \n",
    "                        transform=test_T )  "
   ]
  },
  {
   "cell_type": "markdown",
   "metadata": {},
   "source": [
    "### Data Batching "
   ]
  },
  {
   "cell_type": "code",
   "execution_count": 4,
   "metadata": {},
   "outputs": [],
   "source": [
    "from torch.utils.data import DataLoader\n",
    "\n",
    "trainloader = DataLoader(train_data,\n",
    "                        batch_size=124,\n",
    "                        shuffle=True, \n",
    "                        num_workers=4 \n",
    "                        )\n",
    "\n",
    "testloader = DataLoader(test_data,\n",
    "                        batch_size=124,\n",
    "                        num_workers=4\n",
    "                        )"
   ]
  },
  {
   "cell_type": "markdown",
   "metadata": {},
   "source": [
    "### Model Design "
   ]
  },
  {
   "cell_type": "code",
   "execution_count": 5,
   "metadata": {},
   "outputs": [],
   "source": [
    "class LeNet(nn.Module):\n",
    "    def __init__(self, in_channels=3, n_class=10, p=0.5):\n",
    "        super(LeNet, self).__init__()\n",
    "        self.p = p # probability for DropOut layer \n",
    "        \n",
    "        # === Create the convolution layers === # \n",
    "        self.c1 = nn.Conv2d(in_channels=in_channels, out_channels=6, kernel_size=5, padding=2)\n",
    "        self.c3 = nn.Conv2d(6, 16, 5) \n",
    "        self.c5 = nn.Conv2d(16, 120, 5) \n",
    "\n",
    "        # === Create the linear layers === # \n",
    "        self.f6 = nn.Linear(in_features=480, out_features=84)\n",
    "        self.output = nn.Linear(in_features=84, out_features=n_class)\n",
    "\n",
    "        # === Create dropout layers === # \n",
    "        self.drop = nn.Dropout(self.p)\n",
    "\n",
    "    def featurizer(self, x):\n",
    "        # === block1 === # \n",
    "        x = self.c1(x)\n",
    "        x = F.relu(x) \n",
    "        x = F.max_pool2d(x, kernel_size=2)\n",
    "        # === block2 === # \n",
    "        x = self.c3(x)\n",
    "        x = F.relu(x)\n",
    "        x = F.max_pool2d(x, kernel_size=2)\n",
    "        # === block3 === # \n",
    "        x = self.c5(x)\n",
    "        x = F.relu(x)\n",
    "        # ==== flattening === #\n",
    "        x = nn.Flatten()(x)\n",
    "        return x \n",
    "\n",
    "    def classifier(self, x): \n",
    "        # === hidden layler === # \n",
    "        if self.p > 0: \n",
    "            x = self.drop(x)        \n",
    "        x = self.f6(x)\n",
    "        x = F.relu(x)\n",
    "\n",
    "        # === output layer === # \n",
    "        if self.p > 0 :\n",
    "            x = self.drop(x)\n",
    "        x = self.output(x)\n",
    "        return x \n",
    "    \n",
    "    def forward(self, x):\n",
    "        x = self.featurizer(x) # return (1, 480)\n",
    "        x = self.classifier(x) # return (1, 10)\n",
    "        return x "
   ]
  },
  {
   "cell_type": "markdown",
   "metadata": {},
   "source": [
    "## Finding Learning Rates(LR) - ([ref](https://github.com/dvgodoy/PyTorchStepByStep/blob/master/Chapter06.ipynb))\n",
    "* how to __change the learning rate__ of an optimzier?\n",
    "* a.k.a., ```LR range test```"
   ]
  },
  {
   "cell_type": "code",
   "execution_count": 6,
   "metadata": {},
   "outputs": [],
   "source": [
    "from torch.optim.lr_scheduler import LambdaLR"
   ]
  },
  {
   "cell_type": "code",
   "execution_count": null,
   "metadata": {},
   "outputs": [],
   "source": [
    "# === Higher-order Learning Rate Function === # \n",
    "\n",
    "def lr_func(start_lr, end_lr, num_iter, step_mode='exp'):\n",
    "\n",
    "    if step_mode == 'linear': \n",
    "        factor = (end_lr / start_lr - 1) / num_iter\n",
    "        def lr_fn(iteration):\n",
    "            return 1 + iteration * factor\n",
    "    \n",
    "    elif step_mode == 'exp':\n",
    "        factor = (np.log(end_lr) - np.log(start_lr)) / num_iter\n",
    "\n",
    "        def lr_fn(iteration):\n",
    "            return np.exp(factor)**iteration\n",
    "    \n",
    "    return lr_fn"
   ]
  },
  {
   "cell_type": "code",
   "execution_count": null,
   "metadata": {},
   "outputs": [],
   "source": [
    "start_lr = 1e-3\n",
    "end_lr = 1e-1\n",
    "num_iter = 50\n",
    "\n",
    "lr_scheduler = lr_func(start_lr, end_lr, num_iter, step_mode='exp')\n"
   ]
  },
  {
   "cell_type": "markdown",
   "metadata": {},
   "source": [
    "### Model Configuration (```LambdaLR``` usage)"
   ]
  },
  {
   "cell_type": "code",
   "execution_count": null,
   "metadata": {},
   "outputs": [],
   "source": [
    "model = LeNet(in_channels=3, n_class=10, p=0.5)\n",
    "\n",
    "loss_fn = nn.CrossEntropyLoss(reduction='mean') \n",
    "optimizer = optim.Adam( model.parameters(), # (!) be sure to pass in the model.parameters() \n",
    "                        lr=start_lr, \n",
    "                    ) \n",
    "scheduler = LambdaLR(optimizer, lr_lambda=lr_scheduler)                     "
   ]
  },
  {
   "cell_type": "code",
   "execution_count": null,
   "metadata": {},
   "outputs": [],
   "source": [
    "optimizer.state_dict()"
   ]
  },
  {
   "cell_type": "code",
   "execution_count": null,
   "metadata": {},
   "outputs": [],
   "source": [
    "scheduler.state_dict()"
   ]
  },
  {
   "cell_type": "code",
   "execution_count": null,
   "metadata": {},
   "outputs": [],
   "source": [
    "scheduler.get_last_lr()"
   ]
  },
  {
   "cell_type": "code",
   "execution_count": null,
   "metadata": {},
   "outputs": [],
   "source": [
    "def lr_range_test(self, dataloader, end_lr, num_iter=100, step_mode='exp', alpha=5e-2, ax=None):\n",
    "\n",
    "    previous_states = { 'model': deepcopy(self.model.state_dict()), \n",
    "                        'optimizer': deepcopy(self.optimizer.state_dict())\n",
    "                        }\n",
    "\n",
    "    # === Retrieves the learning rate set in the optimizer\n",
    "    start_lr = self.optimizer.state_dict()['param_groups'][0]['lr']\n",
    "\n",
    "    # === Builds a custom LR function \n",
    "    lr_fn = lr_func(start_lr, end_lr, num_iter) \n",
    "\n",
    "    # === Builds corresponding scheduler \n",
    "    scheduler = LambdaLR(self.optimizer, lr_lambda=lr_fn) \n",
    "\n",
    "    # === Tracking results and iterations \n",
    "    tracking = {'loss': [], 'lr':[]} \n",
    "    iteration = 0 \n",
    "\n",
    "    while (iteration < num_iter):\n",
    "        for inputs, labels in dataloader: \n",
    "            inputs = inputs.to(self.device)\n",
    "            labels = labels.to(self.device)\n",
    "\n",
    "            yhat = self.model(inputs)\n",
    "            loss = self.loss_fn(yhat, labels) \n",
    "\n",
    "            loss.backward() \n",
    "\n",
    "            # === Keep track of the losses and the learning_rate \n",
    "            tracking['lr'].append(scheduler.get_last_lr()[0])\n",
    "\n",
    "            if iteration == 0: # start-point \n",
    "                tracking['loss'].append(loss.item())\n",
    "\n",
    "            else: \n",
    "                previous_loss = tracking['loss'][-1]\n",
    "                smoothed_loss = alpha * loss.item() + (1-alpha) * previous_loss\n",
    "                tracking['loss'].append(smoothed_loss)\n",
    "            \n",
    "            iteration += 1 \n",
    "            \n",
    "            # When the number of iterations reached\n",
    "            if iteration == num_iter: \n",
    "                break \n",
    "\n",
    "            # === Update \n",
    "            self.optimizer.step() \n",
    "            scheduler.step() \n",
    "            self.optimizer.zero_grad()\n",
    "\n",
    "    # === Restores the original states \n",
    "    self.model.load_state_dict(previous_states['model'])\n",
    "    self.optimizer.load_state_dict(previous_states['optimizer'])\n",
    "\n",
    "\n",
    "    # === Visualization\n",
    "    if ax is None: \n",
    "        fig, ax = plt.subplots(1, 1, figsize=(6, 4))\n",
    "    else: \n",
    "        fig = ax.get_figure()\n",
    "\n",
    "    ax.plot(tracking['lr'], tracking['loss']) \n",
    "\n",
    "    if step_mode == 'exp': \n",
    "        ax.set_xscale('log') \n",
    "    ax.set_xlabel('Learning Rate')\n",
    "    ax.set_ylabel('Loss')\n",
    "    fig.tight_layout()\n",
    "    return tracking, fig \n",
    "\n",
    "# add attribute\n",
    "setattr(D2torchEngine, 'lr_range_test', lr_range_test)    "
   ]
  },
  {
   "cell_type": "markdown",
   "metadata": {},
   "source": [
    "### Model Configuration"
   ]
  },
  {
   "cell_type": "code",
   "execution_count": null,
   "metadata": {},
   "outputs": [],
   "source": [
    "AgentDL = D2torchEngine(model, loss_fn, optimizer)  # init. your deep learning engine \n",
    "\n",
    "\n",
    "# === Finding a good init. learning_rate\n",
    "tracking, fig = AgentDL.lr_range_test(trainloader, end_lr=1e-1, num_iter=100)"
   ]
  },
  {
   "cell_type": "code",
   "execution_count": null,
   "metadata": {},
   "outputs": [],
   "source": [
    "idx = np.argmin(np.array(tracking['loss']))\n",
    "\n",
    "print(f\"min_loss: {min(tracking['loss']):.3f} @ idx={idx}\")\n",
    "print(f\"LR: {tracking['lr'][idx]:.3f}\")"
   ]
  },
  {
   "cell_type": "markdown",
   "metadata": {},
   "source": [
    "Before training, LR=0.018 shows the minimum loss value. <br/>\n",
    "So, I'm gonna set LR as 5e-3 around 18e-3."
   ]
  },
  {
   "cell_type": "markdown",
   "metadata": {},
   "source": [
    "### Reset the optimizer"
   ]
  },
  {
   "cell_type": "code",
   "execution_count": null,
   "metadata": {},
   "outputs": [],
   "source": [
    "def set_optimizer(self, optimizer): \n",
    "    self.optimizer = optimizer\n",
    "\n",
    "# add attribute \n",
    "setattr(D2torchEngine, 'set_optimizer', set_optimizer)"
   ]
  },
  {
   "cell_type": "code",
   "execution_count": null,
   "metadata": {},
   "outputs": [],
   "source": [
    "new_optimizer = optim.Adam( model.parameters(), # (!) be sure to pass in the model.parameters() \n",
    "                        lr=5e-3, \n",
    "                    ) \n",
    "\n",
    "AgentDL.set_optimizer(new_optimizer)                    \n",
    "AgentDL.set_loaders(trainloader, testloader)"
   ]
  },
  {
   "cell_type": "markdown",
   "metadata": {},
   "source": [
    "### Model Training"
   ]
  },
  {
   "cell_type": "code",
   "execution_count": null,
   "metadata": {},
   "outputs": [],
   "source": [
    "# Run trianing \n",
    "AgentDL.train(n_epochs=50, seed=42)"
   ]
  },
  {
   "cell_type": "code",
   "execution_count": null,
   "metadata": {},
   "outputs": [],
   "source": [
    "fig = AgentDL.plot_losses()"
   ]
  },
  {
   "cell_type": "markdown",
   "metadata": {},
   "source": [
    "### LRFinder ★★★★\n",
    "* ```lr_range_test``` defined above is fairly basic.\n",
    "* For more useful usage, employ ```torch_lr_finder```."
   ]
  },
  {
   "cell_type": "code",
   "execution_count": null,
   "metadata": {},
   "outputs": [],
   "source": [
    "from torch_lr_finder import LRFinder"
   ]
  },
  {
   "cell_type": "code",
   "execution_count": null,
   "metadata": {},
   "outputs": [],
   "source": [
    "new_model = LeNet(in_channels=3, n_class=10, p=0.5)\n",
    "new_loss_fn = nn.CrossEntropyLoss(reduction='mean')\n",
    "new_optimizer = optim.Adam(new_model.parameters(), lr=3e-4)\n",
    "\n",
    "device = torch.device('cuda:0' if torch.cuda.is_available() else 'cpu')"
   ]
  },
  {
   "cell_type": "code",
   "execution_count": null,
   "metadata": {},
   "outputs": [],
   "source": [
    "fig, ax = plt.subplots(1, 1, figsize=(6, 4))\n",
    "\n",
    "lr_finder = LRFinder(new_model, new_optimizer,new_loss_fn, device=device)\n",
    "lr_finder.range_test(trainloader, end_lr=1e-1, num_iter=100)\n",
    "lr_finder.plot(ax=ax, log_lr=True)\n",
    "\n",
    "fig.tight_layout()\n",
    "lr_finder.reset()"
   ]
  },
  {
   "cell_type": "markdown",
   "metadata": {},
   "source": [
    "## Adaptive Learning Rate "
   ]
  },
  {
   "cell_type": "markdown",
   "metadata": {},
   "source": [
    "※ check p.513 to study more about ```Adaptive Learning Rate```"
   ]
  },
  {
   "cell_type": "markdown",
   "metadata": {},
   "source": [
    "## Learning Rate Schedulers \n",
    "* dynamic ```LR change``` during training time \n",
    "* instead of ```Adaptive Learning Rate```"
   ]
  },
  {
   "cell_type": "code",
   "execution_count": 7,
   "metadata": {},
   "outputs": [],
   "source": [
    "from torch.optim.lr_scheduler import (StepLR, ReduceLROnPlateau, MultiStepLR, \n",
    "                                        ExponentialLR, CosineAnnealingLR)"
   ]
  },
  {
   "cell_type": "code",
   "execution_count": 8,
   "metadata": {},
   "outputs": [],
   "source": [
    "# === scheduler test === # \n",
    "dummy_model = LeNet(in_channels=3, n_class=10, p=0.5)\n",
    "dummy_optimizer = optim.SGD(dummy_model.parameters(), lr=1e-2)\n",
    "dummy_scheduler = StepLR(dummy_optimizer, step_size=2, gamma=1e-1) "
   ]
  },
  {
   "cell_type": "code",
   "execution_count": 9,
   "metadata": {},
   "outputs": [
    {
     "name": "stdout",
     "output_type": "stream",
     "text": [
      "[0.01]\n",
      "[0.01]\n",
      "[0.001]\n",
      "[0.001]\n"
     ]
    }
   ],
   "source": [
    "for epoch in range(4): \n",
    "    print(dummy_scheduler.get_last_lr())\n",
    "\n",
    "    dummy_optimizer.step() # update optimizer \n",
    "    dummy_scheduler.step() # update scheduler\n",
    "    \n",
    "    dummy_optimizer.zero_grad()"
   ]
  },
  {
   "cell_type": "markdown",
   "metadata": {},
   "source": [
    "### Epoch Schedulers - ([ref](https://www.kaggle.com/isbhargav/guide-to-pytorch-learning-rate-scheduling))\n",
    "* ```step method``` called at the ```end of every epoch```. "
   ]
  },
  {
   "cell_type": "code",
   "execution_count": 10,
   "metadata": {},
   "outputs": [],
   "source": [
    "def plot_scheduler(dummy_optimizer, dummy_scheduler, logscale=True, ax=None):\n",
    "    #(ref) https://github.com/dvgodoy/PyTorchStepByStep/blob/master/plots/chapter6.py\n",
    "    learning_rates = []\n",
    "    for i in range(12):\n",
    "        current_lr = list(map(lambda d: d['lr'], dummy_scheduler.optimizer.state_dict()['param_groups']))\n",
    "        learning_rates.append(current_lr)\n",
    "        dummy_optimizer.step()\n",
    "        if isinstance(dummy_scheduler, ReduceLROnPlateau):\n",
    "            dummy_loss = 0.1\n",
    "            dummy_scheduler.step(dummy_loss)\n",
    "        else:\n",
    "            dummy_scheduler.step()\n",
    "\n",
    "    if ax is None:\n",
    "        fig, ax = plt.subplots(1, 1, figsize=(5, 4))\n",
    "    \n",
    "    ax.plot(learning_rates)\n",
    "    if logscale:\n",
    "        ax.set_yscale('log')\n",
    "    ax.set_xlabel('Steps')\n",
    "    ax.set_ylabel('Learning Rate')\n",
    "    ax.set_title(type(dummy_scheduler).__name__)\n",
    "    fig = ax.get_figure()\n",
    "    fig.tight_layout()\n",
    "    return fig"
   ]
  },
  {
   "cell_type": "code",
   "execution_count": 30,
   "metadata": {},
   "outputs": [],
   "source": [
    "dummy_model = torch.nn.Linear(2, 1)\n",
    "dummy_optimizer = optim.SGD(dummy_model.parameters(), lr=1e-3)\n",
    "dummy_scheduler = LambdaLR(dummy_optimizer, lr_lambda=lambda epoch: 0.1 ** (epoch//2)) "
   ]
  },
  {
   "cell_type": "code",
   "execution_count": 31,
   "metadata": {},
   "outputs": [
    {
     "data": {
      "image/png": "[encoded data removed]",
      "text/plain": [
       "<Figure size 360x288 with 1 Axes>"
      ]
     },
     "metadata": {
      "needs_background": "light"
     },
     "output_type": "display_data"
    }
   ],
   "source": [
    "fig = plot_scheduler(dummy_optimizer, dummy_scheduler)"
   ]
  },
  {
   "cell_type": "code",
   "execution_count": 32,
   "metadata": {},
   "outputs": [],
   "source": [
    "dummy_model = torch.nn.Linear(2, 1)\n",
    "dummy_optimizer = optim.SGD(dummy_model.parameters(), lr=1e-3)\n",
    "dummy_scheduler = StepLR(dummy_optimizer, step_size=2, gamma=0.1) "
   ]
  },
  {
   "cell_type": "code",
   "execution_count": 33,
   "metadata": {},
   "outputs": [
    {
     "data": {
      "image/png": "[encoded data removed]",
      "text/plain": [
       "<Figure size 360x288 with 1 Axes>"
      ]
     },
     "metadata": {
      "needs_background": "light"
     },
     "output_type": "display_data"
    }
   ],
   "source": [
    "fig = plot_scheduler(dummy_optimizer, dummy_scheduler)"
   ]
  },
  {
   "cell_type": "code",
   "execution_count": 34,
   "metadata": {},
   "outputs": [],
   "source": [
    "dummy_model = torch.nn.Linear(2, 1)\n",
    "dummy_optimizer = optim.SGD(dummy_model.parameters(), lr=0.01)\n",
    "dummy_scheduler = MultiStepLR(dummy_optimizer, milestones=[6,8,9], gamma=0.1)"
   ]
  },
  {
   "cell_type": "code",
   "execution_count": 35,
   "metadata": {},
   "outputs": [
    {
     "data": {
      "image/png": "[encoded data removed]",
      "text/plain": [
       "<Figure size 360x288 with 1 Axes>"
      ]
     },
     "metadata": {
      "needs_background": "light"
     },
     "output_type": "display_data"
    }
   ],
   "source": [
    "fig = plot_scheduler(dummy_optimizer, dummy_scheduler)"
   ]
  },
  {
   "cell_type": "code",
   "execution_count": 36,
   "metadata": {},
   "outputs": [],
   "source": [
    "dummy_model = torch.nn.Linear(2, 1)\n",
    "dummy_optimizer = optim.SGD(dummy_model.parameters(), lr=1e-3)\n",
    "dummy_scheduler = ExponentialLR(dummy_optimizer, gamma=0.1)"
   ]
  },
  {
   "cell_type": "code",
   "execution_count": 37,
   "metadata": {},
   "outputs": [
    {
     "data": {
      "image/png": "[encoded data removed]",
      "text/plain": [
       "<Figure size 360x288 with 1 Axes>"
      ]
     },
     "metadata": {
      "needs_background": "light"
     },
     "output_type": "display_data"
    }
   ],
   "source": [
    "fig = plot_scheduler(dummy_optimizer, dummy_scheduler)"
   ]
  },
  {
   "cell_type": "code",
   "execution_count": 38,
   "metadata": {},
   "outputs": [],
   "source": [
    "dummy_model = torch.nn.Linear(2, 1)\n",
    "dummy_optimizer = optim.SGD(dummy_model.parameters(), lr=0.01)\n",
    "dummy_scheduler = CosineAnnealingLR(dummy_optimizer, T_max=10, eta_min=0)"
   ]
  },
  {
   "cell_type": "code",
   "execution_count": 39,
   "metadata": {},
   "outputs": [
    {
     "data": {
      "image/png": "[encoded data removed]",
      "text/plain": [
       "<Figure size 360x288 with 1 Axes>"
      ]
     },
     "metadata": {
      "needs_background": "light"
     },
     "output_type": "display_data"
    }
   ],
   "source": [
    "fig = plot_scheduler(dummy_optimizer, dummy_scheduler)"
   ]
  },
  {
   "cell_type": "markdown",
   "metadata": {},
   "source": [
    "### Validation Loss Scheduler "
   ]
  },
  {
   "cell_type": "code",
   "execution_count": 21,
   "metadata": {},
   "outputs": [],
   "source": [
    "from torch.optim.lr_scheduler import (ReduceLROnPlateau)"
   ]
  },
  {
   "cell_type": "code",
   "execution_count": 40,
   "metadata": {},
   "outputs": [],
   "source": [
    "dummy_model = torch.nn.Linear(2, 1)\n",
    "dummy_optimizer = optim.SGD(dummy_model.parameters(), lr=0.01)\n",
    "dummy_scheduler = ReduceLROnPlateau(dummy_optimizer, patience=4, factor=0.1)"
   ]
  },
  {
   "cell_type": "code",
   "execution_count": 41,
   "metadata": {},
   "outputs": [
    {
     "data": {
      "image/png": "[encoded data removed]",
      "text/plain": [
       "<Figure size 360x288 with 1 Axes>"
      ]
     },
     "metadata": {
      "needs_background": "light"
     },
     "output_type": "display_data"
    }
   ],
   "source": [
    "fig = plot_scheduler(dummy_optimizer, dummy_scheduler)"
   ]
  },
  {
   "cell_type": "markdown",
   "metadata": {},
   "source": [
    "### Cyclical schedulers "
   ]
  },
  {
   "cell_type": "code",
   "execution_count": 43,
   "metadata": {},
   "outputs": [],
   "source": [
    "from torch.optim.lr_scheduler import CyclicLR"
   ]
  },
  {
   "cell_type": "code",
   "execution_count": 44,
   "metadata": {},
   "outputs": [],
   "source": [
    "dummy_model = torch.nn.Linear(2, 1)\n",
    "dummy_optimizer = optim.SGD(dummy_model.parameters(), lr=0.01)\n",
    "dummy_scheduler = CyclicLR(dummy_optimizer, base_lr=0.001, max_lr=0.1,step_size_up=5,mode=\"triangular\")"
   ]
  },
  {
   "cell_type": "code",
   "execution_count": 45,
   "metadata": {},
   "outputs": [
    {
     "data": {
      "image/png": "[encoded data removed]",
      "text/plain": [
       "<Figure size 360x288 with 1 Axes>"
      ]
     },
     "metadata": {
      "needs_background": "light"
     },
     "output_type": "display_data"
    }
   ],
   "source": [
    "fig = plot_scheduler(dummy_optimizer, dummy_scheduler)"
   ]
  },
  {
   "cell_type": "markdown",
   "metadata": {},
   "source": [
    "*** \n",
    "# Incorporate ```learning rate schedulers``` into our ```training loop``` - ([ref](https://github.com/dvgodoy/PyTorchStepByStep/blob/master/Chapter06.ipynb))\n",
    "* How to add ```schedulers``` into our ```D2torchEngine``` class ?\n",
    "* Since schedulers are definitely\n",
    "optional, we need to add a method to allow the user to set a scheduler\n",
    "* p.545"
   ]
  },
  {
   "cell_type": "code",
   "execution_count": 46,
   "metadata": {},
   "outputs": [],
   "source": [
    "setattr(D2torchEngine, 'scheduler', None)\n",
    "setattr(D2torchEngine, 'is_batch_lr_scheduler', False)"
   ]
  },
  {
   "cell_type": "code",
   "execution_count": null,
   "metadata": {},
   "outputs": [],
   "source": [
    "def set_lr_scheduler(self, scheduler): \n",
    "    \n",
    "    if scheduler.optimzier == self.optimzier:\n",
    "        "
   ]
  }
 ],
 "metadata": {
  "interpreter": {
   "hash": "31f2aee4e71d21fbe5cf8b01ff0e069b9275f58929596ceb00d14d90e3e16cd6"
  },
  "kernelspec": {
   "display_name": "Python 3.8.10 64-bit",
   "language": "python",
   "name": "python3"
  },
  "language_info": {
   "codemirror_mode": {
    "name": "ipython",
    "version": 3
   },
   "file_extension": ".py",
   "mimetype": "text/x-python",
   "name": "python",
   "nbconvert_exporter": "python",
   "pygments_lexer": "ipython3",
   "version": "3.8.12"
  },
  "orig_nbformat": 4
 },
 "nbformat": 4,
 "nbformat_minor": 2
}
