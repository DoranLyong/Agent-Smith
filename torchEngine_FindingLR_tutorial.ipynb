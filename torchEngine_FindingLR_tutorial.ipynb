{
 "cells": [
  {
   "cell_type": "code",
   "execution_count": 1,
   "metadata": {},
   "outputs": [],
   "source": [
    "from copy import deepcopy \n",
    "\n",
    "import numpy as np \n",
    "import matplotlib.pyplot as plt \n",
    "from tqdm import tqdm \n",
    "\n",
    "import torch \n",
    "import torch.nn as nn \n",
    "import torch.nn.functional as F \n",
    "import torch.optim as optim \n",
    "\n",
    "from SmithZero import D2torchEngine"
   ]
  },
  {
   "cell_type": "code",
   "execution_count": 2,
   "metadata": {},
   "outputs": [
    {
     "data": {
      "text/plain": [
       "<torch._C.Generator at 0x7f82d5e75370>"
      ]
     },
     "execution_count": 2,
     "metadata": {},
     "output_type": "execute_result"
    }
   ],
   "source": [
    "torch.manual_seed(42)"
   ]
  },
  {
   "cell_type": "markdown",
   "metadata": {},
   "source": [
    "### Data Preparation "
   ]
  },
  {
   "cell_type": "code",
   "execution_count": 3,
   "metadata": {},
   "outputs": [
    {
     "name": "stdout",
     "output_type": "stream",
     "text": [
      "Files already downloaded and verified\n",
      "Files already downloaded and verified\n"
     ]
    }
   ],
   "source": [
    "from torchvision.datasets import CIFAR10 \n",
    "import torchvision.transforms as T\n",
    "\n",
    "\n",
    "# === data transformation === # \n",
    "train_T = T.Compose([   T.RandomCrop(32, padding=4),\n",
    "                        T.RandomHorizontalFlip(), \n",
    "                        T.ToTensor(), \n",
    "                        T.Normalize(mean= (0.4914, 0.4822, 0.4465),\n",
    "                                    std=(0.2023, 0.1994, 0.2010)),\n",
    "                    ])\n",
    "\n",
    "test_T = T.Compose([T.ToTensor(),\n",
    "                    T.Normalize(mean=(0.4914, 0.4822, 0.4465),\n",
    "                                std=(0.2023, 0.1994, 0.2010))\n",
    "                    ])                  \n",
    "\n",
    "\n",
    "# === download dataset object === # \n",
    "train_data = CIFAR10 (  root=\"./dataset/train\",\n",
    "                        train=True,\n",
    "                        download=True,\n",
    "                        transform=train_T )\n",
    "\n",
    "test_data = CIFAR10 (   root=\"./dataset/test\",\n",
    "                        train=False,\n",
    "                        download=True, \n",
    "                        transform=test_T )  "
   ]
  },
  {
   "cell_type": "markdown",
   "metadata": {},
   "source": [
    "### Data Batching "
   ]
  },
  {
   "cell_type": "code",
   "execution_count": 69,
   "metadata": {},
   "outputs": [
    {
     "name": "stderr",
     "output_type": "stream",
     "text": [
      "wandb: ERROR Dropped streaming file chunk (see wandb/debug-internal.log)\n",
      "ERROR:root:dropped chunk 404 Client Error: Not Found for url: https://api.wandb.ai/files/doranlyong/LeNet-cifar10/2f0aa4t4/file_stream\n",
      "NoneType: None\n",
      "wandb: ERROR Dropped streaming file chunk (see wandb/debug-internal.log)\n",
      "ERROR:root:dropped chunk 404 Client Error: Not Found for url: https://api.wandb.ai/files/doranlyong/LeNet-cifar10/2f0aa4t4/file_stream\n",
      "NoneType: None\n",
      "wandb: ERROR Dropped streaming file chunk (see wandb/debug-internal.log)\n",
      "ERROR:root:dropped chunk 404 Client Error: Not Found for url: https://api.wandb.ai/files/doranlyong/LeNet-cifar10/2f0aa4t4/file_stream\n",
      "NoneType: None\n",
      "wandb: ERROR Dropped streaming file chunk (see wandb/debug-internal.log)\n",
      "ERROR:root:dropped chunk 404 Client Error: Not Found for url: https://api.wandb.ai/files/doranlyong/LeNet-cifar10/2f0aa4t4/file_stream\n",
      "NoneType: None\n",
      "wandb: ERROR Dropped streaming file chunk (see wandb/debug-internal.log)\n",
      "ERROR:root:dropped chunk 404 Client Error: Not Found for url: https://api.wandb.ai/files/doranlyong/LeNet-cifar10/2f0aa4t4/file_stream\n",
      "NoneType: None\n",
      "wandb: ERROR Dropped streaming file chunk (see wandb/debug-internal.log)\n",
      "ERROR:root:dropped chunk 404 Client Error: Not Found for url: https://api.wandb.ai/files/doranlyong/LeNet-cifar10/2f0aa4t4/file_stream\n",
      "NoneType: None\n",
      "wandb: ERROR Dropped streaming file chunk (see wandb/debug-internal.log)\n",
      "ERROR:root:dropped chunk 404 Client Error: Not Found for url: https://api.wandb.ai/files/doranlyong/LeNet-cifar10/2f0aa4t4/file_stream\n",
      "NoneType: None\n",
      "wandb: ERROR Dropped streaming file chunk (see wandb/debug-internal.log)\n",
      "ERROR:root:dropped chunk 404 Client Error: Not Found for url: https://api.wandb.ai/files/doranlyong/LeNet-cifar10/2f0aa4t4/file_stream\n",
      "NoneType: None\n",
      "wandb: ERROR Dropped streaming file chunk (see wandb/debug-internal.log)\n",
      "ERROR:root:dropped chunk 404 Client Error: Not Found for url: https://api.wandb.ai/files/doranlyong/LeNet-cifar10/2f0aa4t4/file_stream\n",
      "NoneType: None\n",
      "wandb: ERROR Dropped streaming file chunk (see wandb/debug-internal.log)\n",
      "ERROR:root:dropped chunk 404 Client Error: Not Found for url: https://api.wandb.ai/files/doranlyong/LeNet-cifar10/2f0aa4t4/file_stream\n",
      "NoneType: None\n",
      "wandb: ERROR Dropped streaming file chunk (see wandb/debug-internal.log)\n",
      "ERROR:root:dropped chunk 404 Client Error: Not Found for url: https://api.wandb.ai/files/doranlyong/LeNet-cifar10/2f0aa4t4/file_stream\n",
      "NoneType: None\n",
      "wandb: ERROR Dropped streaming file chunk (see wandb/debug-internal.log)\n",
      "ERROR:root:dropped chunk 404 Client Error: Not Found for url: https://api.wandb.ai/files/doranlyong/LeNet-cifar10/2f0aa4t4/file_stream\n",
      "NoneType: None\n",
      "wandb: ERROR Dropped streaming file chunk (see wandb/debug-internal.log)\n",
      "ERROR:root:dropped chunk 404 Client Error: Not Found for url: https://api.wandb.ai/files/doranlyong/LeNet-cifar10/2f0aa4t4/file_stream\n",
      "NoneType: None\n",
      "wandb: ERROR Dropped streaming file chunk (see wandb/debug-internal.log)\n",
      "ERROR:root:dropped chunk 404 Client Error: Not Found for url: https://api.wandb.ai/files/doranlyong/LeNet-cifar10/2f0aa4t4/file_stream\n",
      "NoneType: None\n",
      "wandb: ERROR Dropped streaming file chunk (see wandb/debug-internal.log)\n",
      "ERROR:root:dropped chunk 404 Client Error: Not Found for url: https://api.wandb.ai/files/doranlyong/LeNet-cifar10/2f0aa4t4/file_stream\n",
      "NoneType: None\n",
      "wandb: ERROR Dropped streaming file chunk (see wandb/debug-internal.log)\n",
      "ERROR:root:dropped chunk 404 Client Error: Not Found for url: https://api.wandb.ai/files/doranlyong/LeNet-cifar10/2f0aa4t4/file_stream\n",
      "NoneType: None\n",
      "wandb: ERROR Dropped streaming file chunk (see wandb/debug-internal.log)\n",
      "ERROR:root:dropped chunk 404 Client Error: Not Found for url: https://api.wandb.ai/files/doranlyong/LeNet-cifar10/2f0aa4t4/file_stream\n",
      "NoneType: None\n",
      "wandb: ERROR Dropped streaming file chunk (see wandb/debug-internal.log)\n",
      "ERROR:root:dropped chunk 404 Client Error: Not Found for url: https://api.wandb.ai/files/doranlyong/LeNet-cifar10/2f0aa4t4/file_stream\n",
      "NoneType: None\n",
      "wandb: ERROR Dropped streaming file chunk (see wandb/debug-internal.log)\n",
      "ERROR:root:dropped chunk 404 Client Error: Not Found for url: https://api.wandb.ai/files/doranlyong/LeNet-cifar10/2f0aa4t4/file_stream\n",
      "NoneType: None\n",
      "wandb: ERROR Dropped streaming file chunk (see wandb/debug-internal.log)\n",
      "ERROR:root:dropped chunk 404 Client Error: Not Found for url: https://api.wandb.ai/files/doranlyong/LeNet-cifar10/2f0aa4t4/file_stream\n",
      "NoneType: None\n",
      "wandb: ERROR Dropped streaming file chunk (see wandb/debug-internal.log)\n",
      "ERROR:root:dropped chunk 404 Client Error: Not Found for url: https://api.wandb.ai/files/doranlyong/LeNet-cifar10/2f0aa4t4/file_stream\n",
      "NoneType: None\n",
      "wandb: ERROR Dropped streaming file chunk (see wandb/debug-internal.log)\n",
      "ERROR:root:dropped chunk 404 Client Error: Not Found for url: https://api.wandb.ai/files/doranlyong/LeNet-cifar10/2f0aa4t4/file_stream\n",
      "NoneType: None\n",
      "wandb: ERROR Dropped streaming file chunk (see wandb/debug-internal.log)\n",
      "ERROR:root:dropped chunk 404 Client Error: Not Found for url: https://api.wandb.ai/files/doranlyong/LeNet-cifar10/2f0aa4t4/file_stream\n",
      "NoneType: None\n",
      "wandb: ERROR Dropped streaming file chunk (see wandb/debug-internal.log)\n",
      "ERROR:root:dropped chunk 404 Client Error: Not Found for url: https://api.wandb.ai/files/doranlyong/LeNet-cifar10/2f0aa4t4/file_stream\n",
      "NoneType: None\n",
      "wandb: ERROR Dropped streaming file chunk (see wandb/debug-internal.log)\n",
      "ERROR:root:dropped chunk 404 Client Error: Not Found for url: https://api.wandb.ai/files/doranlyong/LeNet-cifar10/2f0aa4t4/file_stream\n",
      "NoneType: None\n",
      "wandb: ERROR Dropped streaming file chunk (see wandb/debug-internal.log)\n",
      "ERROR:root:dropped chunk 404 Client Error: Not Found for url: https://api.wandb.ai/files/doranlyong/LeNet-cifar10/2f0aa4t4/file_stream\n",
      "NoneType: None\n",
      "wandb: ERROR Dropped streaming file chunk (see wandb/debug-internal.log)\n",
      "ERROR:root:dropped chunk 404 Client Error: Not Found for url: https://api.wandb.ai/files/doranlyong/LeNet-cifar10/2f0aa4t4/file_stream\n",
      "NoneType: None\n",
      "wandb: ERROR Dropped streaming file chunk (see wandb/debug-internal.log)\n",
      "ERROR:root:dropped chunk 404 Client Error: Not Found for url: https://api.wandb.ai/files/doranlyong/LeNet-cifar10/2f0aa4t4/file_stream\n",
      "NoneType: None\n",
      "wandb: ERROR Dropped streaming file chunk (see wandb/debug-internal.log)\n",
      "ERROR:root:dropped chunk 404 Client Error: Not Found for url: https://api.wandb.ai/files/doranlyong/LeNet-cifar10/2f0aa4t4/file_stream\n",
      "NoneType: None\n",
      "wandb: ERROR Dropped streaming file chunk (see wandb/debug-internal.log)\n",
      "ERROR:root:dropped chunk 404 Client Error: Not Found for url: https://api.wandb.ai/files/doranlyong/LeNet-cifar10/2f0aa4t4/file_stream\n",
      "NoneType: None\n",
      "wandb: ERROR Dropped streaming file chunk (see wandb/debug-internal.log)\n",
      "ERROR:root:dropped chunk 404 Client Error: Not Found for url: https://api.wandb.ai/files/doranlyong/LeNet-cifar10/2f0aa4t4/file_stream\n",
      "NoneType: None\n",
      "wandb: ERROR Dropped streaming file chunk (see wandb/debug-internal.log)\n",
      "ERROR:root:dropped chunk 404 Client Error: Not Found for url: https://api.wandb.ai/files/doranlyong/LeNet-cifar10/2f0aa4t4/file_stream\n",
      "NoneType: None\n",
      "wandb: ERROR Dropped streaming file chunk (see wandb/debug-internal.log)\n",
      "ERROR:root:dropped chunk 404 Client Error: Not Found for url: https://api.wandb.ai/files/doranlyong/LeNet-cifar10/2f0aa4t4/file_stream\n",
      "NoneType: None\n",
      "wandb: ERROR Dropped streaming file chunk (see wandb/debug-internal.log)\n",
      "ERROR:root:dropped chunk 404 Client Error: Not Found for url: https://api.wandb.ai/files/doranlyong/LeNet-cifar10/2f0aa4t4/file_stream\n",
      "NoneType: None\n",
      "wandb: ERROR Dropped streaming file chunk (see wandb/debug-internal.log)\n",
      "ERROR:root:dropped chunk 404 Client Error: Not Found for url: https://api.wandb.ai/files/doranlyong/LeNet-cifar10/2f0aa4t4/file_stream\n",
      "NoneType: None\n",
      "wandb: ERROR Dropped streaming file chunk (see wandb/debug-internal.log)\n",
      "ERROR:root:dropped chunk 404 Client Error: Not Found for url: https://api.wandb.ai/files/doranlyong/LeNet-cifar10/2f0aa4t4/file_stream\n",
      "NoneType: None\n",
      "wandb: ERROR Dropped streaming file chunk (see wandb/debug-internal.log)\n",
      "ERROR:root:dropped chunk 404 Client Error: Not Found for url: https://api.wandb.ai/files/doranlyong/LeNet-cifar10/2f0aa4t4/file_stream\n",
      "NoneType: None\n",
      "wandb: ERROR Dropped streaming file chunk (see wandb/debug-internal.log)\n",
      "ERROR:root:dropped chunk 404 Client Error: Not Found for url: https://api.wandb.ai/files/doranlyong/LeNet-cifar10/2f0aa4t4/file_stream\n",
      "NoneType: None\n",
      "wandb: ERROR Dropped streaming file chunk (see wandb/debug-internal.log)\n",
      "ERROR:root:dropped chunk 404 Client Error: Not Found for url: https://api.wandb.ai/files/doranlyong/LeNet-cifar10/2f0aa4t4/file_stream\n",
      "NoneType: None\n",
      "wandb: ERROR Dropped streaming file chunk (see wandb/debug-internal.log)\n",
      "ERROR:root:dropped chunk 404 Client Error: Not Found for url: https://api.wandb.ai/files/doranlyong/LeNet-cifar10/2f0aa4t4/file_stream\n",
      "NoneType: None\n",
      "wandb: ERROR Dropped streaming file chunk (see wandb/debug-internal.log)\n",
      "ERROR:root:dropped chunk 404 Client Error: Not Found for url: https://api.wandb.ai/files/doranlyong/LeNet-cifar10/2f0aa4t4/file_stream\n",
      "NoneType: None\n",
      "wandb: ERROR Dropped streaming file chunk (see wandb/debug-internal.log)\n",
      "ERROR:root:dropped chunk 404 Client Error: Not Found for url: https://api.wandb.ai/files/doranlyong/LeNet-cifar10/2f0aa4t4/file_stream\n",
      "NoneType: None\n",
      "wandb: ERROR Dropped streaming file chunk (see wandb/debug-internal.log)\n",
      "ERROR:root:dropped chunk 404 Client Error: Not Found for url: https://api.wandb.ai/files/doranlyong/LeNet-cifar10/2f0aa4t4/file_stream\n",
      "NoneType: None\n",
      "wandb: ERROR Dropped streaming file chunk (see wandb/debug-internal.log)\n",
      "ERROR:root:dropped chunk 404 Client Error: Not Found for url: https://api.wandb.ai/files/doranlyong/LeNet-cifar10/2f0aa4t4/file_stream\n",
      "NoneType: None\n",
      "wandb: ERROR Dropped streaming file chunk (see wandb/debug-internal.log)\n",
      "ERROR:root:dropped chunk 404 Client Error: Not Found for url: https://api.wandb.ai/files/doranlyong/LeNet-cifar10/2f0aa4t4/file_stream\n",
      "NoneType: None\n",
      "wandb: ERROR Dropped streaming file chunk (see wandb/debug-internal.log)\n",
      "ERROR:root:dropped chunk 404 Client Error: Not Found for url: https://api.wandb.ai/files/doranlyong/LeNet-cifar10/2f0aa4t4/file_stream\n",
      "NoneType: None\n",
      "wandb: ERROR Dropped streaming file chunk (see wandb/debug-internal.log)\n",
      "ERROR:root:dropped chunk 404 Client Error: Not Found for url: https://api.wandb.ai/files/doranlyong/LeNet-cifar10/2f0aa4t4/file_stream\n",
      "NoneType: None\n",
      "wandb: ERROR Dropped streaming file chunk (see wandb/debug-internal.log)\n",
      "ERROR:root:dropped chunk 404 Client Error: Not Found for url: https://api.wandb.ai/files/doranlyong/LeNet-cifar10/2f0aa4t4/file_stream\n",
      "NoneType: None\n",
      "wandb: ERROR Dropped streaming file chunk (see wandb/debug-internal.log)\n",
      "ERROR:root:dropped chunk 404 Client Error: Not Found for url: https://api.wandb.ai/files/doranlyong/LeNet-cifar10/2f0aa4t4/file_stream\n",
      "NoneType: None\n",
      "wandb: ERROR Dropped streaming file chunk (see wandb/debug-internal.log)\n",
      "ERROR:root:dropped chunk 404 Client Error: Not Found for url: https://api.wandb.ai/files/doranlyong/LeNet-cifar10/2f0aa4t4/file_stream\n",
      "NoneType: None\n",
      "wandb: ERROR Dropped streaming file chunk (see wandb/debug-internal.log)\n",
      "ERROR:root:dropped chunk 404 Client Error: Not Found for url: https://api.wandb.ai/files/doranlyong/LeNet-cifar10/2f0aa4t4/file_stream\n",
      "NoneType: None\n",
      "wandb: ERROR Dropped streaming file chunk (see wandb/debug-internal.log)\n",
      "ERROR:root:dropped chunk 404 Client Error: Not Found for url: https://api.wandb.ai/files/doranlyong/LeNet-cifar10/2f0aa4t4/file_stream\n",
      "NoneType: None\n",
      "wandb: ERROR Dropped streaming file chunk (see wandb/debug-internal.log)\n",
      "ERROR:root:dropped chunk 404 Client Error: Not Found for url: https://api.wandb.ai/files/doranlyong/LeNet-cifar10/2f0aa4t4/file_stream\n",
      "NoneType: None\n",
      "wandb: ERROR Dropped streaming file chunk (see wandb/debug-internal.log)\n",
      "ERROR:root:dropped chunk 404 Client Error: Not Found for url: https://api.wandb.ai/files/doranlyong/LeNet-cifar10/2f0aa4t4/file_stream\n",
      "NoneType: None\n",
      "wandb: ERROR Dropped streaming file chunk (see wandb/debug-internal.log)\n",
      "ERROR:root:dropped chunk 404 Client Error: Not Found for url: https://api.wandb.ai/files/doranlyong/LeNet-cifar10/2f0aa4t4/file_stream\n",
      "NoneType: None\n"
     ]
    }
   ],
   "source": [
    "from torch.utils.data import DataLoader\n",
    "\n",
    "trainloader = DataLoader(train_data,\n",
    "                        batch_size=124,\n",
    "                        shuffle=True, \n",
    "                        num_workers=4 \n",
    "                        )\n",
    "\n",
    "testloader = DataLoader(test_data,\n",
    "                        batch_size=124,\n",
    "                        num_workers=4\n",
    "                        )"
   ]
  },
  {
   "cell_type": "markdown",
   "metadata": {},
   "source": [
    "### Model Design "
   ]
  },
  {
   "cell_type": "code",
   "execution_count": 5,
   "metadata": {},
   "outputs": [],
   "source": [
    "class LeNet(nn.Module):\n",
    "    def __init__(self, in_channels=3, n_class=10, p=0.5):\n",
    "        super(LeNet, self).__init__()\n",
    "        self.p = p # probability for DropOut layer \n",
    "        \n",
    "        # === Create the convolution layers === # \n",
    "        self.c1 = nn.Conv2d(in_channels=in_channels, out_channels=6, kernel_size=5, padding=2)\n",
    "        self.c3 = nn.Conv2d(6, 16, 5) \n",
    "        self.c5 = nn.Conv2d(16, 120, 5) \n",
    "\n",
    "        # === Create the linear layers === # \n",
    "        self.f6 = nn.Linear(in_features=480, out_features=84)\n",
    "        self.output = nn.Linear(in_features=84, out_features=n_class)\n",
    "\n",
    "        # === Create dropout layers === # \n",
    "        self.drop = nn.Dropout(self.p)\n",
    "\n",
    "    def featurizer(self, x):\n",
    "        # === block1 === # \n",
    "        x = self.c1(x)\n",
    "        x = F.relu(x) \n",
    "        x = F.max_pool2d(x, kernel_size=2)\n",
    "        # === block2 === # \n",
    "        x = self.c3(x)\n",
    "        x = F.relu(x)\n",
    "        x = F.max_pool2d(x, kernel_size=2)\n",
    "        # === block3 === # \n",
    "        x = self.c5(x)\n",
    "        x = F.relu(x)\n",
    "        # ==== flattening === #\n",
    "        x = nn.Flatten()(x)\n",
    "        return x \n",
    "\n",
    "    def classifier(self, x): \n",
    "        # === hidden layler === # \n",
    "        if self.p > 0: \n",
    "            x = self.drop(x)        \n",
    "        x = self.f6(x)\n",
    "        x = F.relu(x)\n",
    "\n",
    "        # === output layer === # \n",
    "        if self.p > 0 :\n",
    "            x = self.drop(x)\n",
    "        x = self.output(x)\n",
    "        return x \n",
    "    \n",
    "    def forward(self, x):\n",
    "        x = self.featurizer(x) # return (1, 480)\n",
    "        x = self.classifier(x) # return (1, 10)\n",
    "        return x "
   ]
  },
  {
   "cell_type": "markdown",
   "metadata": {},
   "source": [
    "## Finding Learning Rates(LR) - ([ref](https://github.com/dvgodoy/PyTorchStepByStep/blob/master/Chapter06.ipynb))\n",
    "* how to __change the learning rate__ of an optimzier?\n",
    "* a.k.a., ```LR range test```"
   ]
  },
  {
   "cell_type": "code",
   "execution_count": 6,
   "metadata": {},
   "outputs": [],
   "source": [
    "from torch.optim.lr_scheduler import LambdaLR"
   ]
  },
  {
   "cell_type": "code",
   "execution_count": 7,
   "metadata": {},
   "outputs": [],
   "source": [
    "# === Higher-order Learning Rate Function === # \n",
    "\n",
    "def lr_func(start_lr, end_lr, num_iter, step_mode='exp'):\n",
    "\n",
    "    if step_mode == 'linear': \n",
    "        factor = (end_lr / start_lr - 1) / num_iter\n",
    "        def lr_fn(iteration):\n",
    "            return 1 + iteration * factor\n",
    "    \n",
    "    elif step_mode == 'exp':\n",
    "        factor = (np.log(end_lr) - np.log(start_lr)) / num_iter\n",
    "\n",
    "        def lr_fn(iteration):\n",
    "            return np.exp(factor)**iteration\n",
    "    \n",
    "    return lr_fn"
   ]
  },
  {
   "cell_type": "code",
   "execution_count": 8,
   "metadata": {},
   "outputs": [],
   "source": [
    "start_lr = 1e-3\n",
    "end_lr = 1e-1\n",
    "num_iter = 50\n",
    "\n",
    "lr_scheduler = lr_func(start_lr, end_lr, num_iter, step_mode='exp')\n"
   ]
  },
  {
   "cell_type": "markdown",
   "metadata": {},
   "source": [
    "### Model Configuration (```LambdaLR``` usage)"
   ]
  },
  {
   "cell_type": "code",
   "execution_count": 9,
   "metadata": {},
   "outputs": [],
   "source": [
    "model = LeNet(in_channels=3, n_class=10, p=0.5)\n",
    "\n",
    "loss_fn = nn.CrossEntropyLoss(reduction='mean') \n",
    "optimizer = optim.Adam( model.parameters(), # (!) be sure to pass in the model.parameters() \n",
    "                        lr=start_lr, \n",
    "                    ) \n",
    "scheduler = LambdaLR(optimizer, lr_lambda=lr_scheduler)                     "
   ]
  },
  {
   "cell_type": "code",
   "execution_count": 10,
   "metadata": {},
   "outputs": [
    {
     "data": {
      "text/plain": [
       "{'state': {},\n",
       " 'param_groups': [{'lr': 0.001,\n",
       "   'betas': (0.9, 0.999),\n",
       "   'eps': 1e-08,\n",
       "   'weight_decay': 0,\n",
       "   'amsgrad': False,\n",
       "   'initial_lr': 0.001,\n",
       "   'params': [0, 1, 2, 3, 4, 5, 6, 7, 8, 9]}]}"
      ]
     },
     "execution_count": 10,
     "metadata": {},
     "output_type": "execute_result"
    }
   ],
   "source": [
    "optimizer.state_dict()"
   ]
  },
  {
   "cell_type": "code",
   "execution_count": 11,
   "metadata": {},
   "outputs": [
    {
     "data": {
      "text/plain": [
       "{'base_lrs': [0.001],\n",
       " 'last_epoch': 0,\n",
       " '_step_count': 1,\n",
       " 'verbose': False,\n",
       " '_get_lr_called_within_step': False,\n",
       " '_last_lr': [0.001],\n",
       " 'lr_lambdas': [None]}"
      ]
     },
     "execution_count": 11,
     "metadata": {},
     "output_type": "execute_result"
    }
   ],
   "source": [
    "scheduler.state_dict()"
   ]
  },
  {
   "cell_type": "code",
   "execution_count": 12,
   "metadata": {},
   "outputs": [
    {
     "data": {
      "text/plain": [
       "[0.001]"
      ]
     },
     "execution_count": 12,
     "metadata": {},
     "output_type": "execute_result"
    }
   ],
   "source": [
    "scheduler.get_last_lr()"
   ]
  },
  {
   "cell_type": "code",
   "execution_count": 13,
   "metadata": {},
   "outputs": [],
   "source": [
    "def lr_range_test(self, dataloader, end_lr, num_iter=100, step_mode='exp', alpha=5e-2, ax=None):\n",
    "\n",
    "    previous_states = { 'model': deepcopy(self.model.state_dict()), \n",
    "                        'optimizer': deepcopy(self.optimizer.state_dict())\n",
    "                        }\n",
    "\n",
    "    # === Retrieves the learning rate set in the optimizer\n",
    "    start_lr = self.optimizer.state_dict()['param_groups'][0]['lr']\n",
    "\n",
    "    # === Builds a custom LR function \n",
    "    lr_fn = lr_func(start_lr, end_lr, num_iter) \n",
    "\n",
    "    # === Builds corresponding scheduler \n",
    "    scheduler = LambdaLR(self.optimizer, lr_lambda=lr_fn) \n",
    "\n",
    "    # === Tracking results and iterations \n",
    "    tracking = {'loss': [], 'lr':[]} \n",
    "    iteration = 0 \n",
    "\n",
    "    while (iteration < num_iter):\n",
    "        for inputs, labels in dataloader: \n",
    "            inputs = inputs.to(self.device)\n",
    "            labels = labels.to(self.device)\n",
    "\n",
    "            yhat = self.model(inputs)\n",
    "            loss = self.loss_fn(yhat, labels) \n",
    "\n",
    "            loss.backward() \n",
    "\n",
    "            # === Keep track of the losses and the learning_rate \n",
    "            tracking['lr'].append(scheduler.get_last_lr()[0])\n",
    "\n",
    "            if iteration == 0: # start-point \n",
    "                tracking['loss'].append(loss.item())\n",
    "\n",
    "            else: \n",
    "                previous_loss = tracking['loss'][-1]\n",
    "                smoothed_loss = alpha * loss.item() + (1-alpha) * previous_loss\n",
    "                tracking['loss'].append(smoothed_loss)\n",
    "            \n",
    "            iteration += 1 \n",
    "            \n",
    "            # When the number of iterations reached\n",
    "            if iteration == num_iter: \n",
    "                break \n",
    "\n",
    "            # === Update \n",
    "            self.optimizer.step() \n",
    "            scheduler.step() \n",
    "            self.optimizer.zero_grad()\n",
    "\n",
    "    # === Restores the original states \n",
    "    self.model.load_state_dict(previous_states['model'])\n",
    "    self.optimizer.load_state_dict(previous_states['optimizer'])\n",
    "\n",
    "\n",
    "    # === Visualization\n",
    "    if ax is None: \n",
    "        fig, ax = plt.subplots(1, 1, figsize=(6, 4))\n",
    "    else: \n",
    "        fig = ax.get_figure()\n",
    "\n",
    "    ax.plot(tracking['lr'], tracking['loss']) \n",
    "\n",
    "    if step_mode == 'exp': \n",
    "        ax.set_xscale('log') \n",
    "    ax.set_xlabel('Learning Rate')\n",
    "    ax.set_ylabel('Loss')\n",
    "    fig.tight_layout()\n",
    "    return tracking, fig \n",
    "\n",
    "# add attribute\n",
    "setattr(D2torchEngine, 'lr_range_test', lr_range_test)    "
   ]
  },
  {
   "cell_type": "markdown",
   "metadata": {},
   "source": [
    "### Model Configuration"
   ]
  },
  {
   "cell_type": "code",
   "execution_count": 14,
   "metadata": {},
   "outputs": [
    {
     "name": "stderr",
     "output_type": "stream",
     "text": [
      "/home/milky/anaconda3/envs/py38/lib/python3.8/site-packages/torch/cuda/__init__.py:80: UserWarning: CUDA initialization: CUDA unknown error - this may be due to an incorrectly set up environment, e.g. changing env variable CUDA_VISIBLE_DEVICES after program start. Setting the available devices to be zero. (Triggered internally at  ../c10/cuda/CUDAFunctions.cpp:112.)\n",
      "  return torch._C._cuda_getDeviceCount() > 0\n"
     ]
    },
    {
     "data": {
      "image/png": "[encoded data removed]",
      "text/plain": [
       "<Figure size 432x288 with 1 Axes>"
      ]
     },
     "metadata": {
      "needs_background": "light"
     },
     "output_type": "display_data"
    }
   ],
   "source": [
    "AgentDL = D2torchEngine(model, loss_fn, optimizer)  # init. your deep learning engine \n",
    "\n",
    "\n",
    "# === Finding a good init. learning_rate\n",
    "tracking, fig = AgentDL.lr_range_test(trainloader, end_lr=1e-1, num_iter=100)"
   ]
  },
  {
   "cell_type": "code",
   "execution_count": 15,
   "metadata": {},
   "outputs": [
    {
     "name": "stdout",
     "output_type": "stream",
     "text": [
      "min_loss: 2.118 @ idx=61\n",
      "LR: 0.017\n"
     ]
    }
   ],
   "source": [
    "idx = np.argmin(np.array(tracking['loss']))\n",
    "\n",
    "print(f\"min_loss: {min(tracking['loss']):.3f} @ idx={idx}\")\n",
    "print(f\"LR: {tracking['lr'][idx]:.3f}\")"
   ]
  },
  {
   "cell_type": "markdown",
   "metadata": {},
   "source": [
    "Before training, LR=0.018 shows the minimum loss value. <br/>\n",
    "So, I'm gonna set LR as 5e-3 around 18e-3."
   ]
  },
  {
   "cell_type": "markdown",
   "metadata": {},
   "source": [
    "### Reset the optimizer"
   ]
  },
  {
   "cell_type": "code",
   "execution_count": 16,
   "metadata": {},
   "outputs": [],
   "source": [
    "def set_optimizer(self, optimizer): \n",
    "    self.optimizer = optimizer\n",
    "\n",
    "# add attribute \n",
    "setattr(D2torchEngine, 'set_optimizer', set_optimizer)"
   ]
  },
  {
   "cell_type": "code",
   "execution_count": 17,
   "metadata": {},
   "outputs": [],
   "source": [
    "new_optimizer = optim.Adam( model.parameters(), # (!) be sure to pass in the model.parameters() \n",
    "                        lr=5e-3, \n",
    "                    ) \n",
    "\n",
    "AgentDL.set_optimizer(new_optimizer)                    \n",
    "AgentDL.set_loaders(trainloader, testloader)"
   ]
  },
  {
   "cell_type": "markdown",
   "metadata": {},
   "source": [
    "### Model Training"
   ]
  },
  {
   "cell_type": "code",
   "execution_count": 18,
   "metadata": {},
   "outputs": [
    {
     "name": "stderr",
     "output_type": "stream",
     "text": [
      "100%|██████████| 50/50 [04:03<00:00,  4.88s/it]\n"
     ]
    }
   ],
   "source": [
    "# Run trianing \n",
    "AgentDL.train(n_epochs=50, seed=42)"
   ]
  },
  {
   "cell_type": "code",
   "execution_count": 19,
   "metadata": {},
   "outputs": [
    {
     "data": {
      "image/png": "[encoded data removed]",
      "text/plain": [
       "<Figure size 720x288 with 1 Axes>"
      ]
     },
     "metadata": {
      "needs_background": "light"
     },
     "output_type": "display_data"
    }
   ],
   "source": [
    "fig = AgentDL.plot_losses()"
   ]
  },
  {
   "cell_type": "markdown",
   "metadata": {},
   "source": [
    "### LRFinder ★★★★\n",
    "* ```lr_range_test``` defined above is fairly basic.\n",
    "* For more useful usage, employ ```torch_lr_finder```."
   ]
  },
  {
   "cell_type": "code",
   "execution_count": 20,
   "metadata": {},
   "outputs": [],
   "source": [
    "from torch_lr_finder import LRFinder"
   ]
  },
  {
   "cell_type": "code",
   "execution_count": 21,
   "metadata": {},
   "outputs": [],
   "source": [
    "new_model = LeNet(in_channels=3, n_class=10, p=0.5)\n",
    "new_loss_fn = nn.CrossEntropyLoss(reduction='mean')\n",
    "new_optimizer = optim.Adam(new_model.parameters(), lr=3e-4)\n",
    "\n",
    "device = torch.device('cuda:0' if torch.cuda.is_available() else 'cpu')"
   ]
  },
  {
   "cell_type": "code",
   "execution_count": 22,
   "metadata": {},
   "outputs": [
    {
     "name": "stderr",
     "output_type": "stream",
     "text": [
      "100%|██████████| 100/100 [00:01<00:00, 80.95it/s]\n"
     ]
    },
    {
     "name": "stdout",
     "output_type": "stream",
     "text": [
      "Learning rate search finished. See the graph with {finder_name}.plot()\n",
      "LR suggestion: steepest gradient\n",
      "Suggested LR: 4.73E-03\n"
     ]
    },
    {
     "data": {
      "image/png": "[encoded data removed]",
      "text/plain": [
       "<Figure size 432x288 with 1 Axes>"
      ]
     },
     "metadata": {
      "needs_background": "light"
     },
     "output_type": "display_data"
    }
   ],
   "source": [
    "fig, ax = plt.subplots(1, 1, figsize=(6, 4))\n",
    "\n",
    "lr_finder = LRFinder(new_model, new_optimizer,new_loss_fn, device=device)\n",
    "lr_finder.range_test(trainloader, end_lr=1e-1, num_iter=100)\n",
    "lr_finder.plot(ax=ax, log_lr=True)\n",
    "\n",
    "fig.tight_layout()\n",
    "lr_finder.reset()"
   ]
  },
  {
   "cell_type": "markdown",
   "metadata": {},
   "source": [
    "## Adaptive Learning Rate "
   ]
  },
  {
   "cell_type": "markdown",
   "metadata": {},
   "source": [
    "※ check p.513 to study more about ```Adaptive Learning Rate```"
   ]
  },
  {
   "cell_type": "markdown",
   "metadata": {},
   "source": [
    "## Learning Rate Schedulers \n",
    "* dynamic ```LR change``` during training time \n",
    "* instead of ```Adaptive Learning Rate```"
   ]
  },
  {
   "cell_type": "code",
   "execution_count": 23,
   "metadata": {},
   "outputs": [],
   "source": [
    "from torch.optim.lr_scheduler import (StepLR, ReduceLROnPlateau, MultiStepLR, \n",
    "                                        ExponentialLR, CosineAnnealingLR)"
   ]
  },
  {
   "cell_type": "code",
   "execution_count": 24,
   "metadata": {},
   "outputs": [],
   "source": [
    "# === scheduler test === # \n",
    "dummy_model = LeNet(in_channels=3, n_class=10, p=0.5)\n",
    "dummy_optimizer = optim.SGD(dummy_model.parameters(), lr=1e-2)\n",
    "dummy_scheduler = StepLR(dummy_optimizer, step_size=2, gamma=1e-1) "
   ]
  },
  {
   "cell_type": "code",
   "execution_count": 25,
   "metadata": {},
   "outputs": [
    {
     "name": "stdout",
     "output_type": "stream",
     "text": [
      "[0.01]\n",
      "[0.01]\n",
      "[0.001]\n",
      "[0.001]\n"
     ]
    }
   ],
   "source": [
    "for epoch in range(4): \n",
    "    print(dummy_scheduler.get_last_lr())\n",
    "\n",
    "    dummy_optimizer.step() # update optimizer \n",
    "    dummy_scheduler.step() # update scheduler\n",
    "    \n",
    "    dummy_optimizer.zero_grad()"
   ]
  },
  {
   "cell_type": "markdown",
   "metadata": {},
   "source": [
    "### Epoch Schedulers - ([ref](https://www.kaggle.com/isbhargav/guide-to-pytorch-learning-rate-scheduling)) ([ref2](https://sanghyu.tistory.com/113))\n",
    "* ```step method``` called at the ```end of every epoch```. "
   ]
  },
  {
   "cell_type": "code",
   "execution_count": 26,
   "metadata": {},
   "outputs": [],
   "source": [
    "def plot_scheduler(dummy_optimizer, dummy_scheduler, logscale=True, ax=None):\n",
    "    #(ref) https://github.com/dvgodoy/PyTorchStepByStep/blob/master/plots/chapter6.py\n",
    "    learning_rates = []\n",
    "    for i in range(12):\n",
    "        current_lr = list(map(lambda d: d['lr'], dummy_scheduler.optimizer.state_dict()['param_groups']))\n",
    "        learning_rates.append(current_lr)\n",
    "        dummy_optimizer.step()\n",
    "        if isinstance(dummy_scheduler, ReduceLROnPlateau):\n",
    "            dummy_loss = 0.1\n",
    "            dummy_scheduler.step(dummy_loss)\n",
    "        else:\n",
    "            dummy_scheduler.step()\n",
    "\n",
    "    if ax is None:\n",
    "        fig, ax = plt.subplots(1, 1, figsize=(5, 4))\n",
    "    \n",
    "    ax.plot(learning_rates)\n",
    "    if logscale:\n",
    "        ax.set_yscale('log')\n",
    "    ax.set_xlabel('Steps')\n",
    "    ax.set_ylabel('Learning Rate')\n",
    "    ax.set_title(type(dummy_scheduler).__name__)\n",
    "    fig = ax.get_figure()\n",
    "    fig.tight_layout()\n",
    "    return fig"
   ]
  },
  {
   "cell_type": "code",
   "execution_count": 27,
   "metadata": {},
   "outputs": [],
   "source": [
    "dummy_model = torch.nn.Linear(2, 1)\n",
    "dummy_optimizer = optim.SGD(dummy_model.parameters(), lr=1e-3)\n",
    "dummy_scheduler = LambdaLR(dummy_optimizer, lr_lambda=lambda epoch: 0.1 ** (epoch//2)) "
   ]
  },
  {
   "cell_type": "code",
   "execution_count": 28,
   "metadata": {},
   "outputs": [
    {
     "data": {
      "image/png": "[encoded data removed]",
      "text/plain": [
       "<Figure size 360x288 with 1 Axes>"
      ]
     },
     "metadata": {
      "needs_background": "light"
     },
     "output_type": "display_data"
    }
   ],
   "source": [
    "fig = plot_scheduler(dummy_optimizer, dummy_scheduler)"
   ]
  },
  {
   "cell_type": "code",
   "execution_count": 29,
   "metadata": {},
   "outputs": [],
   "source": [
    "dummy_model = torch.nn.Linear(2, 1)\n",
    "dummy_optimizer = optim.SGD(dummy_model.parameters(), lr=1e-3)\n",
    "dummy_scheduler = StepLR(dummy_optimizer, step_size=2, gamma=0.1) "
   ]
  },
  {
   "cell_type": "code",
   "execution_count": 30,
   "metadata": {},
   "outputs": [
    {
     "data": {
      "image/png": "[encoded data removed]",
      "text/plain": [
       "<Figure size 360x288 with 1 Axes>"
      ]
     },
     "metadata": {
      "needs_background": "light"
     },
     "output_type": "display_data"
    }
   ],
   "source": [
    "fig = plot_scheduler(dummy_optimizer, dummy_scheduler)"
   ]
  },
  {
   "cell_type": "code",
   "execution_count": 31,
   "metadata": {},
   "outputs": [],
   "source": [
    "dummy_model = torch.nn.Linear(2, 1)\n",
    "dummy_optimizer = optim.SGD(dummy_model.parameters(), lr=0.01)\n",
    "dummy_scheduler = MultiStepLR(dummy_optimizer, milestones=[6,8,9], gamma=0.1)"
   ]
  },
  {
   "cell_type": "code",
   "execution_count": 32,
   "metadata": {},
   "outputs": [
    {
     "data": {
      "image/png": "[encoded data removed]",
      "text/plain": [
       "<Figure size 360x288 with 1 Axes>"
      ]
     },
     "metadata": {
      "needs_background": "light"
     },
     "output_type": "display_data"
    }
   ],
   "source": [
    "fig = plot_scheduler(dummy_optimizer, dummy_scheduler)"
   ]
  },
  {
   "cell_type": "code",
   "execution_count": 33,
   "metadata": {},
   "outputs": [],
   "source": [
    "dummy_model = torch.nn.Linear(2, 1)\n",
    "dummy_optimizer = optim.SGD(dummy_model.parameters(), lr=1e-3)\n",
    "dummy_scheduler = ExponentialLR(dummy_optimizer, gamma=0.1)"
   ]
  },
  {
   "cell_type": "code",
   "execution_count": 34,
   "metadata": {},
   "outputs": [
    {
     "data": {
      "image/png": "[encoded data removed]",
      "text/plain": [
       "<Figure size 360x288 with 1 Axes>"
      ]
     },
     "metadata": {
      "needs_background": "light"
     },
     "output_type": "display_data"
    }
   ],
   "source": [
    "fig = plot_scheduler(dummy_optimizer, dummy_scheduler)"
   ]
  },
  {
   "cell_type": "code",
   "execution_count": 35,
   "metadata": {},
   "outputs": [],
   "source": [
    "dummy_model = torch.nn.Linear(2, 1)\n",
    "dummy_optimizer = optim.SGD(dummy_model.parameters(), lr=0.01)\n",
    "dummy_scheduler = CosineAnnealingLR(dummy_optimizer, T_max=10, eta_min=0)"
   ]
  },
  {
   "cell_type": "code",
   "execution_count": 36,
   "metadata": {},
   "outputs": [
    {
     "data": {
      "image/png": "[encoded data removed]",
      "text/plain": [
       "<Figure size 360x288 with 1 Axes>"
      ]
     },
     "metadata": {
      "needs_background": "light"
     },
     "output_type": "display_data"
    }
   ],
   "source": [
    "fig = plot_scheduler(dummy_optimizer, dummy_scheduler)"
   ]
  },
  {
   "cell_type": "markdown",
   "metadata": {},
   "source": [
    "### Validation Loss Scheduler "
   ]
  },
  {
   "cell_type": "code",
   "execution_count": 37,
   "metadata": {},
   "outputs": [],
   "source": [
    "from torch.optim.lr_scheduler import (ReduceLROnPlateau)"
   ]
  },
  {
   "cell_type": "code",
   "execution_count": 38,
   "metadata": {},
   "outputs": [],
   "source": [
    "dummy_model = torch.nn.Linear(2, 1)\n",
    "dummy_optimizer = optim.SGD(dummy_model.parameters(), lr=0.01)\n",
    "dummy_scheduler = ReduceLROnPlateau(dummy_optimizer, patience=4, factor=0.1)"
   ]
  },
  {
   "cell_type": "code",
   "execution_count": 39,
   "metadata": {},
   "outputs": [
    {
     "data": {
      "image/png": "[encoded data removed]",
      "text/plain": [
       "<Figure size 360x288 with 1 Axes>"
      ]
     },
     "metadata": {
      "needs_background": "light"
     },
     "output_type": "display_data"
    }
   ],
   "source": [
    "fig = plot_scheduler(dummy_optimizer, dummy_scheduler)"
   ]
  },
  {
   "cell_type": "markdown",
   "metadata": {},
   "source": [
    "### Cyclical schedulers "
   ]
  },
  {
   "cell_type": "code",
   "execution_count": 40,
   "metadata": {},
   "outputs": [],
   "source": [
    "from torch.optim.lr_scheduler import CyclicLR"
   ]
  },
  {
   "cell_type": "code",
   "execution_count": 41,
   "metadata": {},
   "outputs": [],
   "source": [
    "dummy_model = torch.nn.Linear(2, 1)\n",
    "dummy_optimizer = optim.SGD(dummy_model.parameters(), lr=0.01)\n",
    "dummy_scheduler = CyclicLR(dummy_optimizer, base_lr=0.001, max_lr=0.1,step_size_up=5,mode=\"triangular\")"
   ]
  },
  {
   "cell_type": "code",
   "execution_count": 42,
   "metadata": {},
   "outputs": [
    {
     "data": {
      "image/png": "[encoded data removed]",
      "text/plain": [
       "<Figure size 360x288 with 1 Axes>"
      ]
     },
     "metadata": {
      "needs_background": "light"
     },
     "output_type": "display_data"
    }
   ],
   "source": [
    "fig = plot_scheduler(dummy_optimizer, dummy_scheduler)"
   ]
  },
  {
   "cell_type": "code",
   "execution_count": 43,
   "metadata": {},
   "outputs": [
    {
     "data": {
      "text/plain": [
       "SGD (\n",
       "Parameter Group 0\n",
       "    dampening: 0\n",
       "    initial_lr: 0.001\n",
       "    lr: 0.04060000000000004\n",
       "    momentum: 0.86\n",
       "    nesterov: False\n",
       "    weight_decay: 0\n",
       ")"
      ]
     },
     "execution_count": 43,
     "metadata": {},
     "output_type": "execute_result"
    }
   ],
   "source": [
    "dummy_scheduler.optimizer"
   ]
  },
  {
   "cell_type": "code",
   "execution_count": 44,
   "metadata": {},
   "outputs": [
    {
     "data": {
      "text/plain": [
       "{'state': {},\n",
       " 'param_groups': [{'lr': 0.04060000000000004,\n",
       "   'momentum': 0.86,\n",
       "   'dampening': 0,\n",
       "   'weight_decay': 0,\n",
       "   'nesterov': False,\n",
       "   'initial_lr': 0.001,\n",
       "   'params': [0, 1]}]}"
      ]
     },
     "execution_count": 44,
     "metadata": {},
     "output_type": "execute_result"
    }
   ],
   "source": [
    "dummy_scheduler.optimizer.state_dict()"
   ]
  },
  {
   "cell_type": "markdown",
   "metadata": {},
   "source": [
    "*** \n",
    "# Incorporate ```learning rate schedulers``` into our ```training loop``` - ([ref](https://github.com/dvgodoy/PyTorchStepByStep/blob/master/Chapter06.ipynb))\n",
    "* How to add ```schedulers``` into our ```D2torchEngine``` class ?\n",
    "* Since schedulers are definitely\n",
    "optional, we need to add a method to allow the user to set a scheduler\n",
    "* p.545"
   ]
  },
  {
   "cell_type": "markdown",
   "metadata": {},
   "source": [
    "### Define some attributes\n",
    "* one for the ```scheduler``` itself \n",
    "* a ```boolean variable``` to distinguish if it is an ```epoch``` or ```mini-batch scheduler``` "
   ]
  },
  {
   "cell_type": "code",
   "execution_count": 45,
   "metadata": {},
   "outputs": [],
   "source": [
    "# add member variable \n",
    "setattr(D2torchEngine, 'scheduler', None)\n",
    "setattr(D2torchEngine, 'is_batch_lr_scheduler', False)\n",
    "\n",
    "\n",
    "def set_lr_scheduler(self, scheduler): \n",
    "    \n",
    "    if scheduler.optimizer == self.optimizer:\n",
    "        self.scheduler = scheduler \n",
    "        if (isinstance(scheduler, optim.lr_scheduler.CyclicLR) or \n",
    "            isinstance(scheduler, optim.lr_scheduler.OneCycleLR) or \n",
    "            isinstance(scheduler, optim.lr_scheduler.CosineAnnealingWarmRestarts)): \n",
    "            self.is_batch_lr_scheduler = True \n",
    "        else: \n",
    "            self.is_batch_lr_scheduler = False\n",
    "\n",
    "setattr(D2torchEngine, 'set_lr_scheduler', set_lr_scheduler)"
   ]
  },
  {
   "cell_type": "markdown",
   "metadata": {},
   "source": [
    "### Define a protected method (epoch schedulers)\n",
    "* ```step``` method of the scheduler \n",
    "* append the current learning rate to an attribute"
   ]
  },
  {
   "cell_type": "code",
   "execution_count": 46,
   "metadata": {},
   "outputs": [],
   "source": [
    "# add member variable \n",
    "setattr(D2torchEngine, 'learning_rates', [])\n",
    "\n",
    "def _epoch_schedulers(self, val_loss):\n",
    "    if self.scheduler:\n",
    "        if not self.is_batch_lr_scheduler: # no schduler \n",
    "            if isinstance(self.scheduler, optim.lr_scheduler.ReduceLROnPlateau):\n",
    "                self.scheduler.step(val_loss) \n",
    "            else: \n",
    "                self.scheduler.step()\n",
    "            \n",
    "            current_lr = list(map(lambda d: d['lr'], self.scheduler.optimizer.state_dict()['param_groups'])) \n",
    "            self.learning_rates.append(current_lr) # log of learninig_rates \n",
    "\n",
    "setattr(D2torchEngine, '_epoch_schedulers', _epoch_schedulers)"
   ]
  },
  {
   "cell_type": "markdown",
   "metadata": {},
   "source": [
    "### Modify the ```train``` method \n",
    "* add ```_epoch_schedulers``` after validation loop"
   ]
  },
  {
   "cell_type": "code",
   "execution_count": 47,
   "metadata": {},
   "outputs": [],
   "source": [
    "def train(self, n_epochs, seed=42):\n",
    "    self.set_seed(seed) # To ensure reproducibility of the training process\n",
    "\n",
    "    if self.wandb:\n",
    "        # Tell wandb to watch what the model gets up to: gradients, weights, and more!\n",
    "        self.wandb.watch(self.model, self.loss_fn, log=\"all\", log_freq=10)\n",
    "        self.wandb.define_metric(\"train_loss\", summary=\"min\") # (ref) https://docs.wandb.ai/guides/track/log\n",
    "        self.wandb.define_metric(\"val_loss\", summary=\"min\")    \n",
    "\n",
    "    for epoch in tqdm(range(n_epochs)):\n",
    "        self.total_epochs += 1\n",
    "\n",
    "        # === TRAINING === # \n",
    "        train_loss = self._mini_batch(validation=False) \n",
    "        self.train_losses.append(train_loss)\n",
    "\n",
    "        # === VALIDATION === # \n",
    "        # Set no gradients ! \n",
    "        with torch.no_grad(): \n",
    "            val_loss = self._mini_batch(validation=True)\n",
    "            self.val_losses.append(val_loss)\n",
    "\n",
    "        self._epoch_schedulers(val_loss) # learning_rate scheduler\n",
    "\n",
    "        # === If a W&B has been set === # \n",
    "        if self.wandb: \n",
    "            # Record logs of both losses for each epoch \n",
    "            log_dict = {\"epoch\":epoch, \"train_loss\":train_loss}\n",
    "\n",
    "            if val_loss is not None:\n",
    "                update_dict = {'val_loss': val_loss} \n",
    "                log_dict.update(update_dict)  # dict() update \n",
    "            self.wandb.log(log_dict)\n",
    "\n",
    "setattr(D2torchEngine, 'train', train)"
   ]
  },
  {
   "cell_type": "markdown",
   "metadata": {},
   "source": [
    "### Define another protected method (mini_batch_schedulers)\n",
    "* ```_mini_batch_schedulers``` to handle the ```step``` method "
   ]
  },
  {
   "cell_type": "code",
   "execution_count": 48,
   "metadata": {},
   "outputs": [],
   "source": [
    "def _mini_batch_schedulers(self, frac_epoch): \n",
    "    if self.scheduler: \n",
    "        if self.is_batch_lr_scheduler:\n",
    "            if isinstance(self.scheduler, optim.lr_scheduler.CosineAnnealingWarmRestarts): \n",
    "                self.scheduler.step(self.total_epochs + frac_epoch)\n",
    "            else: \n",
    "                self.scheduler.step()\n",
    "\n",
    "            current_lr = list(map(lambda d:d['lr'], self.scheduler.optimizer.state_dict()['param_groups']))\n",
    "            self.learning_rates.append(current_lr) # log of learninig_rates \n",
    "\n",
    "setattr(D2torchEngine, '_mini_batch_schedulers', _mini_batch_schedulers)"
   ]
  },
  {
   "cell_type": "markdown",
   "metadata": {},
   "source": [
    "### Modify ```_mini_batch``` method \n",
    "* add ```_mini_batch_schedulers``` for batch scheduler update \n",
    "* batch scheduler ```should be called``` only during ```training time```"
   ]
  },
  {
   "cell_type": "code",
   "execution_count": 49,
   "metadata": {},
   "outputs": [],
   "source": [
    "def _mini_batch(self, validation=False): \n",
    "    if validation : \n",
    "        data_loader = self.val_loader\n",
    "        step = self.val_step\n",
    "    else: \n",
    "        data_loader = self.train_loader \n",
    "        step = self.train_step \n",
    "    \n",
    "    if data_loader is None: \n",
    "        print(f\"No any dataloader @ validation={validation}\")\n",
    "        return None \n",
    "    \n",
    "    n_batches = len(data_loader)\n",
    "\n",
    "    # === Run loop === # \n",
    "    mini_batch_losses = [] \n",
    "    for i, (x_batch, y_batch) in enumerate(data_loader): \n",
    "        x_batch = x_batch.to(self.device)\n",
    "        y_batch = y_batch.to(self.device)\n",
    "    \n",
    "        mini_batch_loss = step(x_batch, y_batch) # train/val-step\n",
    "        mini_batch_losses.append(mini_batch_loss)\n",
    "\n",
    "        if not validation: # only during training! \n",
    "            self._mini_batch_schedulers(i/n_batches)# call the learning rate scheduler \n",
    "                                                    # at the end of every mini-batch update \n",
    "    \n",
    "    # Return the avg. loss \n",
    "    return np.mean(mini_batch_losses)     \n",
    "\n",
    "setattr(D2torchEngine, '_mini_batch', _mini_batch)"
   ]
  },
  {
   "cell_type": "markdown",
   "metadata": {},
   "source": []
  }
 ],
 "metadata": {
  "interpreter": {
   "hash": "31f2aee4e71d21fbe5cf8b01ff0e069b9275f58929596ceb00d14d90e3e16cd6"
  },
  "kernelspec": {
   "display_name": "Python 3.8.10 64-bit",
   "language": "python",
   "name": "python3"
  },
  "language_info": {
   "codemirror_mode": {
    "name": "ipython",
    "version": 3
   },
   "file_extension": ".py",
   "mimetype": "text/x-python",
   "name": "python",
   "nbconvert_exporter": "python",
   "pygments_lexer": "ipython3",
   "version": "3.8.12"
  },
  "orig_nbformat": 4
 },
 "nbformat": 4,
 "nbformat_minor": 2
}
