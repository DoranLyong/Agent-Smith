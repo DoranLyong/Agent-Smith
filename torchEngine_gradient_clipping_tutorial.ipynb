{
 "cells": [
  {
   "cell_type": "code",
   "execution_count": 1,
   "metadata": {},
   "outputs": [],
   "source": [
    "from copy import deepcopy \n",
    "\n",
    "import numpy as np \n",
    "import matplotlib.pyplot as plt \n",
    "from tqdm import tqdm \n",
    "\n",
    "import torch \n",
    "import torch.nn as nn \n",
    "import torch.nn.functional as F \n",
    "import torch.optim as optim \n",
    "\n",
    "from SmithZero import D2torchEngine"
   ]
  },
  {
   "cell_type": "code",
   "execution_count": 2,
   "metadata": {},
   "outputs": [
    {
     "data": {
      "text/plain": [
       "<torch._C.Generator at 0x7f56cc5ec370>"
      ]
     },
     "execution_count": 2,
     "metadata": {},
     "output_type": "execute_result"
    }
   ],
   "source": [
    "torch.manual_seed(42)"
   ]
  },
  {
   "cell_type": "markdown",
   "metadata": {},
   "source": [
    "## Data Preparation "
   ]
  },
  {
   "cell_type": "code",
   "execution_count": 3,
   "metadata": {},
   "outputs": [
    {
     "name": "stdout",
     "output_type": "stream",
     "text": [
      "Files already downloaded and verified\n",
      "Files already downloaded and verified\n"
     ]
    }
   ],
   "source": [
    "from torchvision.datasets import CIFAR10 \n",
    "import torchvision.transforms as T\n",
    "\n",
    "\n",
    "# === data transformation === # \n",
    "train_T = T.Compose([   T.RandomCrop(32, padding=4),\n",
    "                        T.RandomHorizontalFlip(), \n",
    "                        T.ToTensor(), \n",
    "                        T.Normalize(mean= (0.4914, 0.4822, 0.4465),\n",
    "                                    std=(0.2023, 0.1994, 0.2010)),\n",
    "                    ])\n",
    "\n",
    "test_T = T.Compose([T.ToTensor(),\n",
    "                    T.Normalize(mean=(0.4914, 0.4822, 0.4465),\n",
    "                                std=(0.2023, 0.1994, 0.2010))\n",
    "                    ])                  \n",
    "\n",
    "\n",
    "# === download dataset object === # \n",
    "train_data = CIFAR10 (  root=\"./dataset/train\",\n",
    "                        train=True,\n",
    "                        download=True,\n",
    "                        transform=train_T )\n",
    "\n",
    "test_data = CIFAR10 (   root=\"./dataset/test\",\n",
    "                        train=False,\n",
    "                        download=True, \n",
    "                        transform=test_T ) "
   ]
  },
  {
   "cell_type": "markdown",
   "metadata": {},
   "source": [
    "## Data Batching "
   ]
  },
  {
   "cell_type": "code",
   "execution_count": 4,
   "metadata": {},
   "outputs": [],
   "source": [
    "from torch.utils.data import DataLoader\n",
    "\n",
    "trainloader = DataLoader(train_data,\n",
    "                        batch_size=124,\n",
    "                        shuffle=True, \n",
    "                        num_workers=4 \n",
    "                        )\n",
    "\n",
    "testloader = DataLoader(test_data,\n",
    "                        batch_size=124,\n",
    "                        num_workers=4\n",
    "                        )"
   ]
  },
  {
   "cell_type": "markdown",
   "metadata": {},
   "source": [
    "## Model Design"
   ]
  },
  {
   "cell_type": "code",
   "execution_count": 5,
   "metadata": {},
   "outputs": [],
   "source": [
    "class LeNet(nn.Module):\n",
    "    def __init__(self, in_channels=3, n_class=10, p=0.5):\n",
    "        super(LeNet, self).__init__()\n",
    "        self.p = p # probability for DropOut layer \n",
    "        \n",
    "        # === Create the convolution layers === # \n",
    "        self.c1 = nn.Conv2d(in_channels=in_channels, out_channels=6, kernel_size=5, padding=2)\n",
    "        self.c3 = nn.Conv2d(6, 16, 5) \n",
    "        self.c5 = nn.Conv2d(16, 120, 5) \n",
    "\n",
    "        # === Create the linear layers === # \n",
    "        self.f6 = nn.Linear(in_features=480, out_features=84)\n",
    "        self.output = nn.Linear(in_features=84, out_features=n_class)\n",
    "\n",
    "        # === Create dropout layers === # \n",
    "        self.drop = nn.Dropout(self.p)\n",
    "\n",
    "    def featurizer(self, x):\n",
    "        # === block1 === # \n",
    "        x = self.c1(x)\n",
    "        x = F.relu(x) \n",
    "        x = F.max_pool2d(x, kernel_size=2)\n",
    "        # === block2 === # \n",
    "        x = self.c3(x)\n",
    "        x = F.relu(x)\n",
    "        x = F.max_pool2d(x, kernel_size=2)\n",
    "        # === block3 === # \n",
    "        x = self.c5(x)\n",
    "        x = F.relu(x)\n",
    "        # ==== flattening === #\n",
    "        x = nn.Flatten()(x)\n",
    "        return x \n",
    "\n",
    "    def classifier(self, x): \n",
    "        # === hidden layler === # \n",
    "        if self.p > 0: \n",
    "            x = self.drop(x)        \n",
    "        x = self.f6(x)\n",
    "        x = F.relu(x)\n",
    "\n",
    "        # === output layer === # \n",
    "        if self.p > 0 :\n",
    "            x = self.drop(x)\n",
    "        x = self.output(x)\n",
    "        return x \n",
    "    \n",
    "    def forward(self, x):\n",
    "        x = self.featurizer(x) # return (1, 480)\n",
    "        x = self.classifier(x) # return (1, 10)\n",
    "        return x "
   ]
  },
  {
   "cell_type": "markdown",
   "metadata": {},
   "source": [
    "## W&B setup"
   ]
  },
  {
   "cell_type": "code",
   "execution_count": 6,
   "metadata": {},
   "outputs": [],
   "source": [
    "# === hyperparameter dict === # \n",
    "# you can receive with .yaml or .json \n",
    "\n",
    "hyperparams = dict(\n",
    "        seed=42, \n",
    "        epochs=50,\n",
    "        classes=10,\n",
    "        batch_size=128,\n",
    "        n_workers=4,\n",
    "        learning_rate=1e-3,\n",
    "        dropout_p = 0.5,\n",
    "        dataset=\"CIFAR10\",\n",
    "        architecture=\"LeNet\")"
   ]
  },
  {
   "cell_type": "code",
   "execution_count": 7,
   "metadata": {},
   "outputs": [
    {
     "name": "stderr",
     "output_type": "stream",
     "text": [
      "Failed to detect the name of this notebook, you can set it manually with the WANDB_NOTEBOOK_NAME environment variable to enable code saving.\n",
      "\u001b[34m\u001b[1mwandb\u001b[0m: Currently logged in as: \u001b[33mdoranlyong\u001b[0m (use `wandb login --relogin` to force relogin)\n"
     ]
    },
    {
     "data": {
      "text/plain": [
       "True"
      ]
     },
     "execution_count": 7,
     "metadata": {},
     "output_type": "execute_result"
    }
   ],
   "source": [
    "import wandb \n",
    "\n",
    "wandb.login() "
   ]
  },
  {
   "cell_type": "code",
   "execution_count": 8,
   "metadata": {},
   "outputs": [
    {
     "name": "stderr",
     "output_type": "stream",
     "text": [
      "/home/milky/anaconda3/envs/py38/lib/python3.8/site-packages/IPython/html.py:12: ShimWarning: The `IPython.html` package has been deprecated since IPython 4.0. You should import from `notebook` instead. `IPython.html.widgets` has moved to `ipywidgets`.\n",
      "  warn(\"The `IPython.html` package has been deprecated since IPython 4.0. \"\n"
     ]
    },
    {
     "data": {
      "text/html": [
       "\n",
       "                    Syncing run <strong><a href=\"https://wandb.ai/doranlyong/LeNet-cifar10/runs/18pznznu\" target=\"_blank\">crisp-wood-19</a></strong> to <a href=\"https://wandb.ai/doranlyong/LeNet-cifar10\" target=\"_blank\">Weights & Biases</a> (<a href=\"https://docs.wandb.com/integrations/jupyter.html\" target=\"_blank\">docs</a>).<br/>\n",
       "\n",
       "                "
      ],
      "text/plain": [
       "<IPython.core.display.HTML object>"
      ]
     },
     "metadata": {},
     "output_type": "display_data"
    }
   ],
   "source": [
    "proj_name = \"LeNet-cifar10\"\n",
    "\n",
    "wandb.init(project=proj_name, config=hyperparams)\n",
    "config = wandb.config "
   ]
  },
  {
   "cell_type": "markdown",
   "metadata": {},
   "source": [
    "## Model Configuration"
   ]
  },
  {
   "cell_type": "code",
   "execution_count": 9,
   "metadata": {},
   "outputs": [],
   "source": [
    "model = LeNet(in_channels=3, n_class=config.classes, p=config.dropout_p)\n",
    "\n",
    "loss_fn = nn.CrossEntropyLoss(reduction='mean') \n",
    "optimizer = optim.Adam( model.parameters(), # (!) be sure to pass in the model.parameters() \n",
    "                        lr=config.learning_rate, \n",
    "                    ) "
   ]
  },
  {
   "cell_type": "code",
   "execution_count": 10,
   "metadata": {},
   "outputs": [],
   "source": [
    "AgentDL = D2torchEngine(model, loss_fn, optimizer)\n",
    "\n",
    "AgentDL.set_loaders(trainloader, testloader)\n",
    "AgentDL.set_wandb(wandb)"
   ]
  },
  {
   "cell_type": "code",
   "execution_count": 11,
   "metadata": {},
   "outputs": [
    {
     "name": "stderr",
     "output_type": "stream",
     "text": [
      "100%|██████████| 100/100 [00:00<00:00, 108.85it/s]\n"
     ]
    },
    {
     "name": "stdout",
     "output_type": "stream",
     "text": [
      "Learning rate search finished. See the graph with {finder_name}.plot()\n",
      "LR suggestion: steepest gradient\n",
      "Suggested LR: 5.34E-03\n"
     ]
    },
    {
     "data": {
      "image/png": "[encoded data removed]",
      "text/plain": [
       "<Figure size 432x288 with 1 Axes>"
      ]
     },
     "metadata": {
      "needs_background": "light"
     },
     "output_type": "display_data"
    }
   ],
   "source": [
    "# === Learning Rate Range Test === # \n",
    "fig = AgentDL.lr_range_test(end_lr=1e-1, num_iter=100)"
   ]
  },
  {
   "cell_type": "code",
   "execution_count": 12,
   "metadata": {},
   "outputs": [],
   "source": [
    "# === reset the optimzier === # \n",
    "reset_optimizer = optim.Adam(  model.parameters(), lr=5e-3) \n",
    "AgentDL.set_optimizer(reset_optimizer) "
   ]
  },
  {
   "cell_type": "markdown",
   "metadata": {},
   "source": [
    "## Set a scheduler "
   ]
  },
  {
   "cell_type": "code",
   "execution_count": 13,
   "metadata": {},
   "outputs": [],
   "source": [
    "from torch.optim.lr_scheduler import CosineAnnealingWarmRestarts\n",
    "\n",
    "scheduler = CosineAnnealingWarmRestarts(reset_optimizer, T_0=20, T_mult=4, eta_min=1e-5, last_epoch= -1, verbose=False)\n",
    "\n",
    "AgentDL.set_lr_scheduler(scheduler)"
   ]
  },
  {
   "cell_type": "code",
   "execution_count": 14,
   "metadata": {},
   "outputs": [
    {
     "data": {
      "text/plain": [
       "True"
      ]
     },
     "execution_count": 14,
     "metadata": {},
     "output_type": "execute_result"
    }
   ],
   "source": [
    "AgentDL.optimizer == AgentDL.scheduler.optimizer"
   ]
  },
  {
   "cell_type": "markdown",
   "metadata": {},
   "source": [
    "## Set gradient clipping \n",
    "* to handle ```exploding gradient```\n",
    "* ```value_clipping```\n",
    "* ```norm_clipping```"
   ]
  },
  {
   "cell_type": "code",
   "execution_count": 15,
   "metadata": {},
   "outputs": [],
   "source": [
    "# https://stackoverflow.com/questions/34017866/arrow-on-a-line-plot-with-matplotlib\n",
    "def add_arrow(line, position=None, direction='right', size=15, color=None, lw=2, alpha=1.0, text=None, text_offset=(0 , 0)):\n",
    "    \"\"\"\n",
    "    add an arrow to a line.\n",
    "    line:       Line2D object\n",
    "    position:   x-position of the arrow. If None, mean of xdata is taken\n",
    "    direction:  'left' or 'right'\n",
    "    size:       size of the arrow in fontsize points\n",
    "    color:      if None, line color is taken.\n",
    "    \"\"\"\n",
    "    if color is None:\n",
    "        color = line.get_color()\n",
    "\n",
    "    xdata = line.get_xdata()\n",
    "    ydata = line.get_ydata()\n",
    "\n",
    "    if position is None:\n",
    "        position = xdata.mean()\n",
    "    # find closest index\n",
    "    start_ind = np.argmin(np.absolute(xdata - position))\n",
    "    if direction == 'right':\n",
    "        end_ind = start_ind + 1\n",
    "    else:\n",
    "        end_ind = start_ind - 1\n",
    "\n",
    "    line.axes.annotate('',\n",
    "        xytext=(xdata[start_ind], ydata[start_ind]),\n",
    "        xy=(xdata[end_ind], ydata[end_ind]),\n",
    "        arrowprops=dict(arrowstyle=\"->\", color=color, lw=lw, linestyle='--' if alpha < 1 else '-', alpha=alpha),\n",
    "        size=size,\n",
    "    )\n",
    "    if text is not None:\n",
    "        line.axes.annotate(text, color=color,\n",
    "            xytext=(xdata[end_ind] + text_offset[0], ydata[end_ind] + text_offset[1]),\n",
    "            xy=(xdata[end_ind], ydata[end_ind]),\n",
    "            size=size,\n",
    "        )\n",
    "\n",
    "def make_line(ax, point):\n",
    "    point = np.vstack([[0., 0.], np.array(point.squeeze().tolist())])\n",
    "    line = ax.plot(*point.T, lw=0)[0]\n",
    "    return line        \n",
    "\n",
    "\n",
    "def compare_grads(grads_before, grads_after):\n",
    "    fig, ax = plt.subplots(1, 1, figsize=(5, 3))\n",
    "    ax.set_xlim([0, 3])\n",
    "    ax.set_ylim([0, 1.5])\n",
    "    ax.set_xlabel('Parameter 0')\n",
    "    ax.set_ylabel('Parameter 1')\n",
    "    ax.set_title('Gradients')\n",
    "    add_arrow(make_line(ax, grads_before), lw=2, color='k', text=r'$grad$', \n",
    "                size=12, alpha=1.0, text_offset=(-.13, .03))\n",
    "    add_arrow(make_line(ax, grads_after), lw=2, color='r', text=r'$clipped\\ grad$', \n",
    "                size=12, alpha=1.0, text_offset=(-.33, .03))\n",
    "    fig.tight_layout()\n",
    "    return fig"
   ]
  },
  {
   "cell_type": "code",
   "execution_count": 16,
   "metadata": {},
   "outputs": [
    {
     "name": "stdout",
     "output_type": "stream",
     "text": [
      "model gradient: tensor([[2.5000],\n",
      "        [0.8000]])\n"
     ]
    }
   ],
   "source": [
    "# === example gradient === # \n",
    "parm = nn.Parameter(torch.randn(2, 1))\n",
    "fake_grads = torch.tensor([[2.5], [0.8]])\n",
    "\n",
    "\n",
    "parm.grad = fake_grads.clone() \n",
    "print(f\"model gradient: {parm.grad}\")"
   ]
  },
  {
   "cell_type": "markdown",
   "metadata": {},
   "source": [
    "### Value clipping "
   ]
  },
  {
   "cell_type": "code",
   "execution_count": 17,
   "metadata": {},
   "outputs": [
    {
     "name": "stdout",
     "output_type": "stream",
     "text": [
      "clipped gradient: tensor([[1.0000],\n",
      "        [0.8000]])\n"
     ]
    }
   ],
   "source": [
    "# === gradient value clipping === # \n",
    "nn.utils.clip_grad_value_(parm, clip_value=1.0)  # set maximum as 1.0\n",
    "\n",
    "print(f\"clipped gradient: {parm.grad}\")"
   ]
  },
  {
   "cell_type": "code",
   "execution_count": 18,
   "metadata": {},
   "outputs": [
    {
     "data": {
      "image/png": "[encoded data removed]",
      "text/plain": [
       "<Figure size 360x216 with 1 Axes>"
      ]
     },
     "metadata": {
      "needs_background": "light"
     },
     "output_type": "display_data"
    }
   ],
   "source": [
    "fig = compare_grads(fake_grads, parm.grad)"
   ]
  },
  {
   "cell_type": "markdown",
   "metadata": {},
   "source": [
    "### Norm clipping \n",
    "* vector normalization "
   ]
  },
  {
   "cell_type": "code",
   "execution_count": 19,
   "metadata": {},
   "outputs": [
    {
     "name": "stdout",
     "output_type": "stream",
     "text": [
      "tensor([[2.5000],\n",
      "        [0.8000]])\n",
      "tensor(2.6249)\n",
      "tensor([[0.9524],\n",
      "        [0.3048]])\n",
      "tensor(1.0000)\n"
     ]
    }
   ],
   "source": [
    "parm.grad = fake_grads.clone()\n",
    "\n",
    "# === gradient norm clipping === # \n",
    "nn.utils.clip_grad_norm_(parm, max_norm=1.0, norm_type=2)\n",
    "\n",
    "print(fake_grads)\n",
    "print(fake_grads.norm())\n",
    "\n",
    "print(parm.grad)     \n",
    "print(parm.grad.norm()) # 2.5/2.6249 := 0.9524\n",
    "                        # 0.8/2.6249 := 0.3048"
   ]
  },
  {
   "cell_type": "code",
   "execution_count": 20,
   "metadata": {},
   "outputs": [
    {
     "data": {
      "image/png": "[encoded data removed]",
      "text/plain": [
       "<Figure size 360x216 with 1 Axes>"
      ]
     },
     "metadata": {
      "needs_background": "light"
     },
     "output_type": "display_data"
    }
   ],
   "source": [
    "fig = compare_grads(fake_grads, parm.grad)  # normalized vector "
   ]
  },
  {
   "cell_type": "markdown",
   "metadata": {},
   "source": [
    "### apply gradient clipping in practice "
   ]
  },
  {
   "cell_type": "code",
   "execution_count": 21,
   "metadata": {},
   "outputs": [],
   "source": [
    "setattr(D2torchEngine, 'clipping', None) # add member variable \n",
    "\n",
    "\n",
    "def set_clip_grad_value(self, clip_value=1.0): \n",
    "    # *** gradient value clipping *** # \n",
    "    self.clipping = lambda: nn.utils.clip_grad_value_(self.model.parameters(), clip_value=clip_value)\n",
    "\n",
    "\n",
    "def set_clip_grad_norm(self, max_norm=1.0, norm_type=2):\n",
    "    # *** gradient norm clipping *** # \n",
    "    self.clipping = lambda: nn.utils.clip_grad_norm_(self.model.parameters(), max_norm=max_norm, norm_type=norm_type)\n",
    "\n",
    "\n",
    "setattr(D2torchEngine, 'set_clip_grad_value', set_clip_grad_value)    \n",
    "setattr(D2torchEngine, 'set_clip_grad_norm', set_clip_grad_norm)    "
   ]
  },
  {
   "cell_type": "code",
   "execution_count": 22,
   "metadata": {},
   "outputs": [],
   "source": [
    "# === Modifying traing_step === # \n",
    "\n",
    "def _make_train_step(self): \n",
    "    # === build this in higher-order function === # \n",
    "    def perform_train_step(input, label):\n",
    "        self.model.train()  # set train mode \n",
    "\n",
    "        yhat = self.model(input) # get score out of the model \n",
    "        loss = self.loss_fn(yhat, label) # computes the loss \n",
    "\n",
    "        loss.backward() # computes gradients \n",
    "        \n",
    "        if callable(self.clipping): # make sure gradient clipping \n",
    "            self.clipping()         # after computing gradients \n",
    "\n",
    "        # Updates parameters using gradients and the learning rate \n",
    "        self.optimizer.step() \n",
    "        self.optimizer.zero_grad() \n",
    "        \n",
    "        # Returns the loss \n",
    "        return loss.item() \n",
    "    return perform_train_step\n",
    "\n",
    "setattr(D2torchEngine, '_make_train_step', _make_train_step)        "
   ]
  },
  {
   "cell_type": "markdown",
   "metadata": {},
   "source": [
    "The ```gradient clipping``` methods above work just fine for most models, <br/>\n",
    "but they are of ```little use``` for ```recurrent neural networks```(RNN) (we’ll discuss them in Chapter 8) <br/>\n",
    "\n",
    "In this case, we need to make gradients to be clipped ```during backpropagation``` like below:"
   ]
  },
  {
   "cell_type": "markdown",
   "metadata": {},
   "source": [
    "### the backward hooks code to accomplish that:"
   ]
  },
  {
   "cell_type": "code",
   "execution_count": 23,
   "metadata": {},
   "outputs": [],
   "source": [
    "def set_clip_backprop(self, clip_value=1.0): \n",
    "    # *** clipping during backpropagation *** # \n",
    "\n",
    "    if self.clipping is None: \n",
    "        self.clipping = []\n",
    "    \n",
    "    for parm in self.model.parameters():\n",
    "        if parm.requires_grad:\n",
    "            func = lambda grad: torch.clamp(grad, -clip_value, clip_value)\n",
    "            handle = parm.register_hook(func)\n",
    "            self.clipping.append(handle)\n",
    "\n",
    "def remove_clip(self):\n",
    "    # === Reset === # \n",
    "    # *** for the clip_backprop *** # \n",
    "    if isinstance(self.clipping, list):\n",
    "        for handle in self.clipping:\n",
    "            handle.remove()\n",
    "    # *** for the clip_grad_value/norm *** #             \n",
    "    self.clipping = None     \n",
    "\n",
    "\n",
    "setattr(D2torchEngine, 'set_clip_backprop', set_clip_backprop)    \n",
    "setattr(D2torchEngine, 'remove_clip', remove_clip)    "
   ]
  },
  {
   "cell_type": "markdown",
   "metadata": {},
   "source": [
    "## Model Training "
   ]
  },
  {
   "cell_type": "code",
   "execution_count": 24,
   "metadata": {},
   "outputs": [
    {
     "name": "stderr",
     "output_type": "stream",
     "text": [
      "100%|██████████| 100/100 [07:55<00:00,  4.75s/it]\n"
     ]
    }
   ],
   "source": [
    "AgentDL.set_clip_grad_value(clip_value=1.0) # make sure no gradients are ever above 1.0\n",
    "#AgentDL.set_clip_backprop(clip_value=1.0) # clipping with hooks \n",
    "\n",
    "\n",
    "AgentDL.train(n_epochs=100, seed=config.seed)"
   ]
  },
  {
   "cell_type": "code",
   "execution_count": 25,
   "metadata": {},
   "outputs": [],
   "source": [
    "AgentDL.remove_clip() "
   ]
  },
  {
   "cell_type": "code",
   "execution_count": 26,
   "metadata": {},
   "outputs": [
    {
     "data": {
      "image/png": "[encoded data removed]",
      "text/plain": [
       "<Figure size 720x288 with 1 Axes>"
      ]
     },
     "metadata": {
      "needs_background": "light"
     },
     "output_type": "display_data"
    }
   ],
   "source": [
    "fig = AgentDL.plot_losses()"
   ]
  },
  {
   "cell_type": "markdown",
   "metadata": {},
   "source": [
    "## Save Checkpointing "
   ]
  },
  {
   "cell_type": "code",
   "execution_count": 30,
   "metadata": {},
   "outputs": [],
   "source": [
    "AgentDL.save_checkpoint('model_checkpoint.pth')"
   ]
  }
 ],
 "metadata": {
  "interpreter": {
   "hash": "31f2aee4e71d21fbe5cf8b01ff0e069b9275f58929596ceb00d14d90e3e16cd6"
  },
  "kernelspec": {
   "display_name": "Python 3.8.10 64-bit",
   "language": "python",
   "name": "python3"
  },
  "language_info": {
   "codemirror_mode": {
    "name": "ipython",
    "version": 3
   },
   "file_extension": ".py",
   "mimetype": "text/x-python",
   "name": "python",
   "nbconvert_exporter": "python",
   "pygments_lexer": "ipython3",
   "version": "3.8.12"
  },
  "orig_nbformat": 4
 },
 "nbformat": 4,
 "nbformat_minor": 2
}
