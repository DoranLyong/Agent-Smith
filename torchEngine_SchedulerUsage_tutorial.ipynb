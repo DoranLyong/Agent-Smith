{
 "cells": [
  {
   "cell_type": "code",
   "execution_count": 1,
   "metadata": {},
   "outputs": [],
   "source": [
    "from copy import deepcopy \n",
    "\n",
    "import numpy as np \n",
    "import matplotlib.pyplot as plt \n",
    "from tqdm import tqdm \n",
    "\n",
    "import torch \n",
    "import torch.nn as nn \n",
    "import torch.nn.functional as F \n",
    "import torch.optim as optim \n",
    "\n",
    "from SmithZero import D2torchEngine"
   ]
  },
  {
   "cell_type": "code",
   "execution_count": 2,
   "metadata": {},
   "outputs": [
    {
     "data": {
      "text/plain": [
       "<torch._C.Generator at 0x7f0abcb1d210>"
      ]
     },
     "execution_count": 2,
     "metadata": {},
     "output_type": "execute_result"
    }
   ],
   "source": [
    "torch.manual_seed(42)"
   ]
  },
  {
   "cell_type": "markdown",
   "metadata": {},
   "source": [
    "### Data Preparation "
   ]
  },
  {
   "cell_type": "code",
   "execution_count": 3,
   "metadata": {},
   "outputs": [
    {
     "name": "stdout",
     "output_type": "stream",
     "text": [
      "Files already downloaded and verified\n",
      "Files already downloaded and verified\n"
     ]
    }
   ],
   "source": [
    "from torchvision.datasets import CIFAR10 \n",
    "import torchvision.transforms as T\n",
    "\n",
    "\n",
    "# === data transformation === # \n",
    "train_T = T.Compose([   T.RandomCrop(32, padding=4),\n",
    "                        T.RandomHorizontalFlip(), \n",
    "                        T.ToTensor(), \n",
    "                        T.Normalize(mean= (0.4914, 0.4822, 0.4465),\n",
    "                                    std=(0.2023, 0.1994, 0.2010)),\n",
    "                    ])\n",
    "\n",
    "test_T = T.Compose([T.ToTensor(),\n",
    "                    T.Normalize(mean=(0.4914, 0.4822, 0.4465),\n",
    "                                std=(0.2023, 0.1994, 0.2010))\n",
    "                    ])                  \n",
    "\n",
    "\n",
    "# === download dataset object === # \n",
    "train_data = CIFAR10 (  root=\"./dataset/train\",\n",
    "                        train=True,\n",
    "                        download=True,\n",
    "                        transform=train_T )\n",
    "\n",
    "test_data = CIFAR10 (   root=\"./dataset/test\",\n",
    "                        train=False,\n",
    "                        download=True, \n",
    "                        transform=test_T )  "
   ]
  },
  {
   "cell_type": "markdown",
   "metadata": {},
   "source": [
    "### Data Batching "
   ]
  },
  {
   "cell_type": "code",
   "execution_count": 4,
   "metadata": {},
   "outputs": [],
   "source": [
    "from torch.utils.data import DataLoader\n",
    "\n",
    "trainloader = DataLoader(train_data,\n",
    "                        batch_size=124,\n",
    "                        shuffle=True, \n",
    "                        num_workers=4 \n",
    "                        )\n",
    "\n",
    "testloader = DataLoader(test_data,\n",
    "                        batch_size=124,\n",
    "                        num_workers=4\n",
    "                        )"
   ]
  },
  {
   "cell_type": "markdown",
   "metadata": {},
   "source": [
    "### Model Design "
   ]
  },
  {
   "cell_type": "code",
   "execution_count": 5,
   "metadata": {},
   "outputs": [],
   "source": [
    "class LeNet(nn.Module):\n",
    "    def __init__(self, in_channels=3, n_class=10, p=0.5):\n",
    "        super(LeNet, self).__init__()\n",
    "        self.p = p # probability for DropOut layer \n",
    "        \n",
    "        # === Create the convolution layers === # \n",
    "        self.c1 = nn.Conv2d(in_channels=in_channels, out_channels=6, kernel_size=5, padding=2)\n",
    "        self.c3 = nn.Conv2d(6, 16, 5) \n",
    "        self.c5 = nn.Conv2d(16, 120, 5) \n",
    "\n",
    "        # === Create the linear layers === # \n",
    "        self.f6 = nn.Linear(in_features=480, out_features=84)\n",
    "        self.output = nn.Linear(in_features=84, out_features=n_class)\n",
    "\n",
    "        # === Create dropout layers === # \n",
    "        self.drop = nn.Dropout(self.p)\n",
    "\n",
    "    def featurizer(self, x):\n",
    "        # === block1 === # \n",
    "        x = self.c1(x)\n",
    "        x = F.relu(x) \n",
    "        x = F.max_pool2d(x, kernel_size=2)\n",
    "        # === block2 === # \n",
    "        x = self.c3(x)\n",
    "        x = F.relu(x)\n",
    "        x = F.max_pool2d(x, kernel_size=2)\n",
    "        # === block3 === # \n",
    "        x = self.c5(x)\n",
    "        x = F.relu(x)\n",
    "        # ==== flattening === #\n",
    "        x = nn.Flatten()(x)\n",
    "        return x \n",
    "\n",
    "    def classifier(self, x): \n",
    "        # === hidden layler === # \n",
    "        if self.p > 0: \n",
    "            x = self.drop(x)        \n",
    "        x = self.f6(x)\n",
    "        x = F.relu(x)\n",
    "\n",
    "        # === output layer === # \n",
    "        if self.p > 0 :\n",
    "            x = self.drop(x)\n",
    "        x = self.output(x)\n",
    "        return x \n",
    "    \n",
    "    def forward(self, x):\n",
    "        x = self.featurizer(x) # return (1, 480)\n",
    "        x = self.classifier(x) # return (1, 10)\n",
    "        return x "
   ]
  },
  {
   "cell_type": "markdown",
   "metadata": {},
   "source": [
    "***"
   ]
  },
  {
   "cell_type": "code",
   "execution_count": 6,
   "metadata": {},
   "outputs": [],
   "source": [
    "def set_optimizer(self, optimizer): \n",
    "    self.optimizer = optimizer\n",
    "\n",
    "# add attribute \n",
    "setattr(D2torchEngine, 'set_optimizer', set_optimizer)"
   ]
  },
  {
   "cell_type": "code",
   "execution_count": 7,
   "metadata": {},
   "outputs": [],
   "source": [
    "# add member variable \n",
    "setattr(D2torchEngine, 'scheduler', None)\n",
    "setattr(D2torchEngine, 'is_batch_lr_scheduler', False)\n",
    "\n",
    "\n",
    "def set_lr_scheduler(self, scheduler): \n",
    "    \n",
    "    if scheduler.optimizer == self.optimizer:\n",
    "        self.scheduler = scheduler \n",
    "        if (isinstance(scheduler, optim.lr_scheduler.CyclicLR) or \n",
    "            isinstance(scheduler, optim.lr_scheduler.OneCycleLR) or \n",
    "            isinstance(scheduler, optim.lr_scheduler.CosineAnnealingWarmRestarts)): \n",
    "            self.is_batch_lr_scheduler = True \n",
    "        else: \n",
    "            self.is_batch_lr_scheduler = False\n",
    "\n",
    "setattr(D2torchEngine, 'set_lr_scheduler', set_lr_scheduler)"
   ]
  },
  {
   "cell_type": "code",
   "execution_count": 8,
   "metadata": {},
   "outputs": [],
   "source": [
    "# add member variable \n",
    "setattr(D2torchEngine, 'learning_rates', [])\n",
    "\n",
    "def _epoch_schedulers(self, val_loss):\n",
    "    if self.scheduler:\n",
    "        if not self.is_batch_lr_scheduler: # no schduler \n",
    "            if isinstance(self.scheduler, optim.lr_scheduler.ReduceLROnPlateau):\n",
    "                self.scheduler.step(val_loss) \n",
    "            else: \n",
    "                self.scheduler.step()\n",
    "            \n",
    "            current_lr = list(map(lambda d: d['lr'], self.scheduler.optimizer.state_dict()['param_groups'])) \n",
    "            self.learning_rates.append(current_lr) # log of learninig_rates \n",
    "\n",
    "setattr(D2torchEngine, '_epoch_schedulers', _epoch_schedulers)"
   ]
  },
  {
   "cell_type": "code",
   "execution_count": 9,
   "metadata": {},
   "outputs": [],
   "source": [
    "def train(self, n_epochs, seed=42):\n",
    "    self.set_seed(seed) # To ensure reproducibility of the training process\n",
    "\n",
    "    if self.wandb:\n",
    "        # Tell wandb to watch what the model gets up to: gradients, weights, and more!\n",
    "        self.wandb.watch(self.model, self.loss_fn, log=\"all\", log_freq=10)\n",
    "        self.wandb.define_metric(\"train_loss\", summary=\"min\") # (ref) https://docs.wandb.ai/guides/track/log\n",
    "        self.wandb.define_metric(\"val_loss\", summary=\"min\")    \n",
    "\n",
    "    for epoch in tqdm(range(n_epochs)):\n",
    "        self.total_epochs += 1\n",
    "\n",
    "        # === TRAINING === # \n",
    "        train_loss = self._mini_batch(validation=False) \n",
    "        self.train_losses.append(train_loss)\n",
    "\n",
    "        # === VALIDATION === # \n",
    "        # Set no gradients ! \n",
    "        with torch.no_grad(): \n",
    "            val_loss = self._mini_batch(validation=True)\n",
    "            self.val_losses.append(val_loss)\n",
    "\n",
    "        self._epoch_schedulers(val_loss) # learning_rate scheduler\n",
    "\n",
    "        # === If a W&B has been set === # \n",
    "        if self.wandb: \n",
    "            # Record logs of both losses for each epoch \n",
    "            log_dict = {\"epoch\":epoch, \"train_loss\":train_loss}\n",
    "\n",
    "            if val_loss is not None:\n",
    "                update_dict = {'val_loss': val_loss} \n",
    "                log_dict.update(update_dict)  # dict() update \n",
    "\n",
    "            if self.scheduler is not None: \n",
    "                log_dict.update({'lr_schedule': np.array(self.learning_rates[-1][-1])}) # get the last LR\n",
    "            \n",
    "            self.wandb.log(log_dict)\n",
    "\n",
    "setattr(D2torchEngine, 'train', train)"
   ]
  },
  {
   "cell_type": "code",
   "execution_count": 10,
   "metadata": {},
   "outputs": [],
   "source": [
    "def _mini_batch_schedulers(self, frac_epoch): \n",
    "    if self.scheduler: \n",
    "        if self.is_batch_lr_scheduler:\n",
    "            if isinstance(self.scheduler, optim.lr_scheduler.CosineAnnealingWarmRestarts): \n",
    "                self.scheduler.step(self.total_epochs + frac_epoch)\n",
    "            else: \n",
    "                self.scheduler.step()\n",
    "\n",
    "            current_lr = list(map(lambda d:d['lr'], self.scheduler.optimizer.state_dict()['param_groups']))\n",
    "            self.learning_rates.append(current_lr) # log of learninig_rates \n",
    "\n",
    "setattr(D2torchEngine, '_mini_batch_schedulers', _mini_batch_schedulers)"
   ]
  },
  {
   "cell_type": "code",
   "execution_count": 11,
   "metadata": {},
   "outputs": [],
   "source": [
    "def _mini_batch(self, validation=False): \n",
    "    if validation : \n",
    "        data_loader = self.val_loader\n",
    "        step = self.val_step\n",
    "    else: \n",
    "        data_loader = self.train_loader \n",
    "        step = self.train_step \n",
    "    \n",
    "    if data_loader is None: \n",
    "        print(f\"No any dataloader @ validation={validation}\")\n",
    "        return None \n",
    "    \n",
    "    n_batches = len(data_loader)\n",
    "\n",
    "    # === Run loop === # \n",
    "    mini_batch_losses = [] \n",
    "    for i, (x_batch, y_batch) in enumerate(data_loader): \n",
    "        x_batch = x_batch.to(self.device)\n",
    "        y_batch = y_batch.to(self.device)\n",
    "    \n",
    "        mini_batch_loss = step(x_batch, y_batch) # train/val-step\n",
    "        mini_batch_losses.append(mini_batch_loss)\n",
    "\n",
    "        if not validation: # only during training! \n",
    "            self._mini_batch_schedulers(i/n_batches)# call the learning rate scheduler \n",
    "                                                    # at the end of every mini-batch update \n",
    "    \n",
    "    # Return the avg. loss \n",
    "    return np.mean(mini_batch_losses)     \n",
    "\n",
    "setattr(D2torchEngine, '_mini_batch', _mini_batch)"
   ]
  },
  {
   "cell_type": "markdown",
   "metadata": {},
   "source": [
    "***"
   ]
  },
  {
   "cell_type": "code",
   "execution_count": 12,
   "metadata": {},
   "outputs": [],
   "source": [
    "# === hyperparameter dict === # \n",
    "# you can receive with .yaml or .json \n",
    "\n",
    "hyperparams = dict(\n",
    "        seed=42, \n",
    "        epochs=50,\n",
    "        classes=10,\n",
    "        batch_size=128,\n",
    "        n_workers=4,\n",
    "        learning_rate=1e-3,\n",
    "        dropout_p = 0.5,\n",
    "        dataset=\"CIFAR10\",\n",
    "        architecture=\"LeNet\")"
   ]
  },
  {
   "cell_type": "code",
   "execution_count": 13,
   "metadata": {},
   "outputs": [
    {
     "name": "stderr",
     "output_type": "stream",
     "text": [
      "Failed to detect the name of this notebook, you can set it manually with the WANDB_NOTEBOOK_NAME environment variable to enable code saving.\n",
      "\u001b[34m\u001b[1mwandb\u001b[0m: Currently logged in as: \u001b[33mdoranlyong\u001b[0m (use `wandb login --relogin` to force relogin)\n"
     ]
    },
    {
     "data": {
      "text/plain": [
       "True"
      ]
     },
     "execution_count": 13,
     "metadata": {},
     "output_type": "execute_result"
    }
   ],
   "source": [
    "import wandb \n",
    "\n",
    "wandb.login() "
   ]
  },
  {
   "cell_type": "code",
   "execution_count": 14,
   "metadata": {},
   "outputs": [
    {
     "name": "stderr",
     "output_type": "stream",
     "text": [
      "/home/milky/anaconda3/envs/py38/lib/python3.8/site-packages/IPython/html.py:12: ShimWarning: The `IPython.html` package has been deprecated since IPython 4.0. You should import from `notebook` instead. `IPython.html.widgets` has moved to `ipywidgets`.\n",
      "  warn(\"The `IPython.html` package has been deprecated since IPython 4.0. \"\n"
     ]
    },
    {
     "data": {
      "text/html": [
       "\n",
       "                    Syncing run <strong><a href=\"https://wandb.ai/doranlyong/LeNet-cifar10/runs/1lw9ovj2\" target=\"_blank\">crisp-wind-3</a></strong> to <a href=\"https://wandb.ai/doranlyong/LeNet-cifar10\" target=\"_blank\">Weights & Biases</a> (<a href=\"https://docs.wandb.com/integrations/jupyter.html\" target=\"_blank\">docs</a>).<br/>\n",
       "\n",
       "                "
      ],
      "text/plain": [
       "<IPython.core.display.HTML object>"
      ]
     },
     "metadata": {},
     "output_type": "display_data"
    }
   ],
   "source": [
    "proj_name = \"LeNet-cifar10\"\n",
    "\n",
    "wandb.init(project=proj_name, config=hyperparams)\n",
    "config = wandb.config "
   ]
  },
  {
   "cell_type": "markdown",
   "metadata": {},
   "source": [
    "### Model Configuration "
   ]
  },
  {
   "cell_type": "code",
   "execution_count": 15,
   "metadata": {},
   "outputs": [],
   "source": [
    "model = LeNet(in_channels=3, n_class=config.classes, p=config.dropout_p)\n",
    "\n",
    "loss_fn = nn.CrossEntropyLoss(reduction='mean') \n",
    "optimizer = optim.Adam( model.parameters(), # (!) be sure to pass in the model.parameters() \n",
    "                        lr=config.learning_rate, \n",
    "                    ) "
   ]
  },
  {
   "cell_type": "markdown",
   "metadata": {},
   "source": [
    "* ```lr_range_test``` 메소드에 ```LRFnder``` 를 추가해서 수정하기 "
   ]
  },
  {
   "cell_type": "code",
   "execution_count": 16,
   "metadata": {},
   "outputs": [
    {
     "name": "stderr",
     "output_type": "stream",
     "text": [
      "/home/milky/anaconda3/envs/py38/lib/python3.8/site-packages/torch/cuda/__init__.py:80: UserWarning: CUDA initialization: CUDA unknown error - this may be due to an incorrectly set up environment, e.g. changing env variable CUDA_VISIBLE_DEVICES after program start. Setting the available devices to be zero. (Triggered internally at  ../c10/cuda/CUDAFunctions.cpp:112.)\n",
      "  return torch._C._cuda_getDeviceCount() > 0\n",
      "100%|██████████| 100/100 [00:01<00:00, 89.16it/s]\n"
     ]
    },
    {
     "name": "stdout",
     "output_type": "stream",
     "text": [
      "Learning rate search finished. See the graph with {finder_name}.plot()\n",
      "LR suggestion: steepest gradient\n",
      "Suggested LR: 5.34E-03\n"
     ]
    },
    {
     "data": {
      "image/png": "[encoded data removed]",
      "text/plain": [
       "<Figure size 432x288 with 1 Axes>"
      ]
     },
     "metadata": {
      "needs_background": "light"
     },
     "output_type": "display_data"
    }
   ],
   "source": [
    "from torch_lr_finder import LRFinder\n",
    "\n",
    "# === Learning Rate Range Test === #\n",
    "# Using LRFinder instead of above method \n",
    "device = torch.device('cuda:0' if torch.cuda.is_available() else 'cpu')\n",
    "\n",
    "fig, ax = plt.subplots(1, 1, figsize=(6, 4))\n",
    "\n",
    "lr_finder = LRFinder(model, optimizer, loss_fn, device=device)\n",
    "lr_finder.range_test(trainloader, end_lr=1e-1, num_iter=100)\n",
    "lr_finder.plot(ax=ax, log_lr=True)\n",
    "\n",
    "fig.tight_layout()\n",
    "lr_finder.reset()"
   ]
  },
  {
   "cell_type": "markdown",
   "metadata": {},
   "source": [
    "After getting the suggested learning rate, we can use it as the ```upper range``` of a ```cyclical scheduler```. <br/>\n",
    "So, we re-create the optimizer"
   ]
  },
  {
   "cell_type": "code",
   "execution_count": 17,
   "metadata": {},
   "outputs": [],
   "source": [
    "AgentDL = D2torchEngine(model, loss_fn, optimizer)\n",
    "\n",
    "\n",
    "# === reset the optimzier === # \n",
    "reset_optimizer = optim.Adam(  model.parameters(), lr=5.34e-3 ) \n",
    "AgentDL.set_optimizer(reset_optimizer) "
   ]
  },
  {
   "cell_type": "markdown",
   "metadata": {},
   "source": [
    "### Set a scheduler "
   ]
  },
  {
   "cell_type": "code",
   "execution_count": 18,
   "metadata": {},
   "outputs": [],
   "source": [
    "from torch.optim.lr_scheduler import CosineAnnealingWarmRestarts\n",
    "\n",
    "scheduler = CosineAnnealingWarmRestarts(reset_optimizer, T_0=20, T_mult=4, eta_min=1e-5, last_epoch= -1, verbose=False)\n",
    "\n",
    "AgentDL.set_lr_scheduler(scheduler)"
   ]
  },
  {
   "cell_type": "code",
   "execution_count": 19,
   "metadata": {},
   "outputs": [
    {
     "data": {
      "text/plain": [
       "True"
      ]
     },
     "execution_count": 19,
     "metadata": {},
     "output_type": "execute_result"
    }
   ],
   "source": [
    "AgentDL.optimizer == AgentDL.scheduler.optimizer"
   ]
  },
  {
   "cell_type": "code",
   "execution_count": 20,
   "metadata": {},
   "outputs": [
    {
     "data": {
      "text/plain": [
       "[{'lr': 0.00534,\n",
       "  'betas': (0.9, 0.999),\n",
       "  'eps': 1e-08,\n",
       "  'weight_decay': 0,\n",
       "  'amsgrad': False,\n",
       "  'initial_lr': 0.00534,\n",
       "  'params': [0, 1, 2, 3, 4, 5, 6, 7, 8, 9]}]"
      ]
     },
     "execution_count": 20,
     "metadata": {},
     "output_type": "execute_result"
    }
   ],
   "source": [
    "AgentDL.scheduler.optimizer.state_dict()['param_groups']"
   ]
  },
  {
   "cell_type": "markdown",
   "metadata": {},
   "source": [
    "### Model Training "
   ]
  },
  {
   "cell_type": "code",
   "execution_count": 21,
   "metadata": {},
   "outputs": [],
   "source": [
    "AgentDL.set_loaders(trainloader, testloader)\n",
    "AgentDL.set_wandb(wandb)"
   ]
  },
  {
   "cell_type": "code",
   "execution_count": 22,
   "metadata": {},
   "outputs": [
    {
     "name": "stderr",
     "output_type": "stream",
     "text": [
      "100%|██████████| 100/100 [08:11<00:00,  4.92s/it]\n"
     ]
    }
   ],
   "source": [
    "AgentDL.train(n_epochs=100, seed=config.seed)"
   ]
  },
  {
   "cell_type": "code",
   "execution_count": 23,
   "metadata": {},
   "outputs": [
    {
     "data": {
      "image/png": "[encoded data removed]",
      "text/plain": [
       "<Figure size 720x288 with 1 Axes>"
      ]
     },
     "metadata": {
      "needs_background": "light"
     },
     "output_type": "display_data"
    }
   ],
   "source": [
    "fig = AgentDL.plot_losses()"
   ]
  },
  {
   "cell_type": "markdown",
   "metadata": {},
   "source": [
    "### Metrics "
   ]
  },
  {
   "cell_type": "code",
   "execution_count": 24,
   "metadata": {},
   "outputs": [
    {
     "name": "stdout",
     "output_type": "stream",
     "text": [
      "cls_idx_0: 2637/5000\n",
      "cls_idx_1: 3814/5000\n",
      "cls_idx_2: 1732/5000\n",
      "cls_idx_3: 1733/5000\n",
      "cls_idx_4: 2960/5000\n",
      "cls_idx_5: 1465/5000\n",
      "cls_idx_6: 1817/5000\n",
      "cls_idx_7: 3100/5000\n",
      "cls_idx_8: 3208/5000\n",
      "cls_idx_9: 2802/5000\n",
      "tensor([25268, 50000])\n",
      "Accuracy: 0.505\n"
     ]
    }
   ],
   "source": [
    "results = AgentDL.loader_apply(AgentDL.train_loader, AgentDL.correct, reduce='sum') \n",
    "\n",
    "for idx, (n_correct, n_items) in enumerate(results):\n",
    "    print(f\"cls_idx_{idx}: {n_correct}/{n_items}\") \n",
    "\n",
    "\n",
    "results = results.sum(axis=0) \n",
    "print(results)\n",
    "print(f\"Accuracy: {results[0]/results[1]:.3f}\")"
   ]
  },
  {
   "cell_type": "code",
   "execution_count": 25,
   "metadata": {},
   "outputs": [
    {
     "name": "stdout",
     "output_type": "stream",
     "text": [
      "cls_idx_0: 567/1000\n",
      "cls_idx_1: 814/1000\n",
      "cls_idx_2: 372/1000\n",
      "cls_idx_3: 303/1000\n",
      "cls_idx_4: 581/1000\n",
      "cls_idx_5: 344/1000\n",
      "cls_idx_6: 419/1000\n",
      "cls_idx_7: 669/1000\n",
      "cls_idx_8: 659/1000\n",
      "cls_idx_9: 564/1000\n",
      "tensor([ 5292, 10000])\n",
      "Accuracy: 0.529\n"
     ]
    }
   ],
   "source": [
    "results = AgentDL.loader_apply(AgentDL.val_loader, AgentDL.correct, reduce='sum') \n",
    "\n",
    "for idx, (n_correct, n_items) in enumerate(results):\n",
    "    print(f\"cls_idx_{idx}: {n_correct}/{n_items}\") \n",
    "\n",
    "\n",
    "results = results.sum(axis=0) \n",
    "print(results)\n",
    "print(f\"Accuracy: {results[0]/results[1]:.3f}\")"
   ]
  }
 ],
 "metadata": {
  "interpreter": {
   "hash": "31f2aee4e71d21fbe5cf8b01ff0e069b9275f58929596ceb00d14d90e3e16cd6"
  },
  "kernelspec": {
   "display_name": "Python 3.8.10 64-bit",
   "language": "python",
   "name": "python3"
  },
  "language_info": {
   "codemirror_mode": {
    "name": "ipython",
    "version": 3
   },
   "file_extension": ".py",
   "mimetype": "text/x-python",
   "name": "python",
   "nbconvert_exporter": "python",
   "pygments_lexer": "ipython3",
   "version": "3.8.12"
  },
  "orig_nbformat": 4
 },
 "nbformat": 4,
 "nbformat_minor": 2
}
